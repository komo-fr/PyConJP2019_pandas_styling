{
 "cells": [
  {
   "cell_type": "code",
   "execution_count": 1,
   "metadata": {
    "ExecuteTime": {
     "end_time": "2019-09-15T21:37:25.493430Z",
     "start_time": "2019-09-15T21:37:25.452747Z"
    }
   },
   "outputs": [
    {
     "data": {
      "text/plain": [
       "'0.25.1'"
      ]
     },
     "execution_count": 1,
     "metadata": {},
     "output_type": "execute_result"
    }
   ],
   "source": [
    "import pandas as pd\n",
    "import numpy as np\n",
    "\n",
    "pd.__version__"
   ]
  },
  {
   "cell_type": "markdown",
   "metadata": {},
   "source": [
    "<img src=\"../img/styling_overview.png\">"
   ]
  },
  {
   "cell_type": "markdown",
   "metadata": {},
   "source": [
    "# 最初の一歩"
   ]
  },
  {
   "cell_type": "markdown",
   "metadata": {},
   "source": [
    "## スタイル設定しないまま表示"
   ]
  },
  {
   "cell_type": "code",
   "execution_count": 2,
   "metadata": {
    "ExecuteTime": {
     "end_time": "2019-09-15T21:37:29.389192Z",
     "start_time": "2019-09-15T21:37:29.344305Z"
    },
    "scrolled": false
   },
   "outputs": [
    {
     "data": {
      "text/html": [
       "<div>\n",
       "<style scoped>\n",
       "    .dataframe tbody tr th:only-of-type {\n",
       "        vertical-align: middle;\n",
       "    }\n",
       "\n",
       "    .dataframe tbody tr th {\n",
       "        vertical-align: top;\n",
       "    }\n",
       "\n",
       "    .dataframe thead th {\n",
       "        text-align: right;\n",
       "    }\n",
       "</style>\n",
       "<table border=\"1\" class=\"dataframe\">\n",
       "  <thead>\n",
       "    <tr style=\"text-align: right;\">\n",
       "      <th></th>\n",
       "      <th>Araki</th>\n",
       "      <th>Baba</th>\n",
       "      <th>Chou</th>\n",
       "    </tr>\n",
       "    <tr>\n",
       "      <th>index</th>\n",
       "      <th></th>\n",
       "      <th></th>\n",
       "      <th></th>\n",
       "    </tr>\n",
       "  </thead>\n",
       "  <tbody>\n",
       "    <tr>\n",
       "      <td>国語</td>\n",
       "      <td>75</td>\n",
       "      <td>80</td>\n",
       "      <td>95</td>\n",
       "    </tr>\n",
       "    <tr>\n",
       "      <td>数学</td>\n",
       "      <td>55</td>\n",
       "      <td>80</td>\n",
       "      <td>70</td>\n",
       "    </tr>\n",
       "    <tr>\n",
       "      <td>理科</td>\n",
       "      <td>80</td>\n",
       "      <td>90</td>\n",
       "      <td>85</td>\n",
       "    </tr>\n",
       "    <tr>\n",
       "      <td>社会</td>\n",
       "      <td>90</td>\n",
       "      <td>30</td>\n",
       "      <td>70</td>\n",
       "    </tr>\n",
       "  </tbody>\n",
       "</table>\n",
       "</div>"
      ],
      "text/plain": [
       "       Araki  Baba  Chou\n",
       "index                   \n",
       "国語        75    80    95\n",
       "数学        55    80    70\n",
       "理科        80    90    85\n",
       "社会        90    30    70"
      ]
     },
     "execution_count": 2,
     "metadata": {},
     "output_type": "execute_result"
    }
   ],
   "source": [
    "import pandas as pd\n",
    "# テストの成績表を読み込む\n",
    "df = pd.read_csv('../data/exam.csv', index_col='index')\n",
    "df"
   ]
  },
  {
   "cell_type": "code",
   "execution_count": 3,
   "metadata": {
    "ExecuteTime": {
     "end_time": "2019-09-15T21:37:30.374818Z",
     "start_time": "2019-09-15T21:37:29.815213Z"
    }
   },
   "outputs": [
    {
     "data": {
      "text/html": [
       "<style  type=\"text/css\" >\n",
       "    #T_8d51c31e_d826_11e9_b9d6_94942601c652row0_col0 {\n",
       "            color:  black;\n",
       "        }    #T_8d51c31e_d826_11e9_b9d6_94942601c652row0_col1 {\n",
       "            color:  black;\n",
       "        }    #T_8d51c31e_d826_11e9_b9d6_94942601c652row0_col2 {\n",
       "            color:  black;\n",
       "        }    #T_8d51c31e_d826_11e9_b9d6_94942601c652row1_col0 {\n",
       "            color:  red;\n",
       "        }    #T_8d51c31e_d826_11e9_b9d6_94942601c652row1_col1 {\n",
       "            color:  black;\n",
       "        }    #T_8d51c31e_d826_11e9_b9d6_94942601c652row1_col2 {\n",
       "            color:  black;\n",
       "        }    #T_8d51c31e_d826_11e9_b9d6_94942601c652row2_col0 {\n",
       "            color:  black;\n",
       "        }    #T_8d51c31e_d826_11e9_b9d6_94942601c652row2_col1 {\n",
       "            color:  black;\n",
       "        }    #T_8d51c31e_d826_11e9_b9d6_94942601c652row2_col2 {\n",
       "            color:  black;\n",
       "        }    #T_8d51c31e_d826_11e9_b9d6_94942601c652row3_col0 {\n",
       "            color:  black;\n",
       "        }    #T_8d51c31e_d826_11e9_b9d6_94942601c652row3_col1 {\n",
       "            color:  red;\n",
       "        }    #T_8d51c31e_d826_11e9_b9d6_94942601c652row3_col2 {\n",
       "            color:  black;\n",
       "        }</style><table id=\"T_8d51c31e_d826_11e9_b9d6_94942601c652\" ><thead>    <tr>        <th class=\"blank level0\" ></th>        <th class=\"col_heading level0 col0\" >Araki</th>        <th class=\"col_heading level0 col1\" >Baba</th>        <th class=\"col_heading level0 col2\" >Chou</th>    </tr>    <tr>        <th class=\"index_name level0\" >index</th>        <th class=\"blank\" ></th>        <th class=\"blank\" ></th>        <th class=\"blank\" ></th>    </tr></thead><tbody>\n",
       "                <tr>\n",
       "                        <th id=\"T_8d51c31e_d826_11e9_b9d6_94942601c652level0_row0\" class=\"row_heading level0 row0\" >国語</th>\n",
       "                        <td id=\"T_8d51c31e_d826_11e9_b9d6_94942601c652row0_col0\" class=\"data row0 col0\" >75</td>\n",
       "                        <td id=\"T_8d51c31e_d826_11e9_b9d6_94942601c652row0_col1\" class=\"data row0 col1\" >80</td>\n",
       "                        <td id=\"T_8d51c31e_d826_11e9_b9d6_94942601c652row0_col2\" class=\"data row0 col2\" >95</td>\n",
       "            </tr>\n",
       "            <tr>\n",
       "                        <th id=\"T_8d51c31e_d826_11e9_b9d6_94942601c652level0_row1\" class=\"row_heading level0 row1\" >数学</th>\n",
       "                        <td id=\"T_8d51c31e_d826_11e9_b9d6_94942601c652row1_col0\" class=\"data row1 col0\" >55</td>\n",
       "                        <td id=\"T_8d51c31e_d826_11e9_b9d6_94942601c652row1_col1\" class=\"data row1 col1\" >80</td>\n",
       "                        <td id=\"T_8d51c31e_d826_11e9_b9d6_94942601c652row1_col2\" class=\"data row1 col2\" >70</td>\n",
       "            </tr>\n",
       "            <tr>\n",
       "                        <th id=\"T_8d51c31e_d826_11e9_b9d6_94942601c652level0_row2\" class=\"row_heading level0 row2\" >理科</th>\n",
       "                        <td id=\"T_8d51c31e_d826_11e9_b9d6_94942601c652row2_col0\" class=\"data row2 col0\" >80</td>\n",
       "                        <td id=\"T_8d51c31e_d826_11e9_b9d6_94942601c652row2_col1\" class=\"data row2 col1\" >90</td>\n",
       "                        <td id=\"T_8d51c31e_d826_11e9_b9d6_94942601c652row2_col2\" class=\"data row2 col2\" >85</td>\n",
       "            </tr>\n",
       "            <tr>\n",
       "                        <th id=\"T_8d51c31e_d826_11e9_b9d6_94942601c652level0_row3\" class=\"row_heading level0 row3\" >社会</th>\n",
       "                        <td id=\"T_8d51c31e_d826_11e9_b9d6_94942601c652row3_col0\" class=\"data row3 col0\" >90</td>\n",
       "                        <td id=\"T_8d51c31e_d826_11e9_b9d6_94942601c652row3_col1\" class=\"data row3 col1\" >30</td>\n",
       "                        <td id=\"T_8d51c31e_d826_11e9_b9d6_94942601c652row3_col2\" class=\"data row3 col2\" >70</td>\n",
       "            </tr>\n",
       "    </tbody></table>"
      ],
      "text/plain": [
       "<pandas.io.formats.style.Styler at 0x114647c50>"
      ]
     },
     "execution_count": 3,
     "metadata": {},
     "output_type": "execute_result"
    }
   ],
   "source": [
    "def color_red_akaten(val):\n",
    "    color = 'red' if val < 60 else 'black'\n",
    "    return f'color: {color}'\n",
    "\n",
    "# テストの成績表を読み込む\n",
    "df = pd.read_csv('../data/exam.csv', index_col='index')\n",
    "df.style.applymap(color_red_akaten)"
   ]
  },
  {
   "cell_type": "code",
   "execution_count": 4,
   "metadata": {
    "ExecuteTime": {
     "end_time": "2019-09-15T21:37:30.651236Z",
     "start_time": "2019-09-15T21:37:30.609457Z"
    }
   },
   "outputs": [
    {
     "data": {
      "text/html": [
       "<style  type=\"text/css\" >\n",
       "    #T_8d5b5622_d826_11e9_968b_94942601c652row0_col0 {\n",
       "            background-color:  None;\n",
       "        }    #T_8d5b5622_d826_11e9_968b_94942601c652row0_col1 {\n",
       "            background-color:  None;\n",
       "        }    #T_8d5b5622_d826_11e9_968b_94942601c652row0_col2 {\n",
       "            background-color:  None;\n",
       "        }    #T_8d5b5622_d826_11e9_968b_94942601c652row1_col0 {\n",
       "            background-color:  yellow;\n",
       "        }    #T_8d5b5622_d826_11e9_968b_94942601c652row1_col1 {\n",
       "            background-color:  None;\n",
       "        }    #T_8d5b5622_d826_11e9_968b_94942601c652row1_col2 {\n",
       "            background-color:  None;\n",
       "        }    #T_8d5b5622_d826_11e9_968b_94942601c652row2_col0 {\n",
       "            background-color:  None;\n",
       "        }    #T_8d5b5622_d826_11e9_968b_94942601c652row2_col1 {\n",
       "            background-color:  None;\n",
       "        }    #T_8d5b5622_d826_11e9_968b_94942601c652row2_col2 {\n",
       "            background-color:  None;\n",
       "        }    #T_8d5b5622_d826_11e9_968b_94942601c652row3_col0 {\n",
       "            background-color:  None;\n",
       "        }    #T_8d5b5622_d826_11e9_968b_94942601c652row3_col1 {\n",
       "            background-color:  yellow;\n",
       "        }    #T_8d5b5622_d826_11e9_968b_94942601c652row3_col2 {\n",
       "            background-color:  None;\n",
       "        }</style><table id=\"T_8d5b5622_d826_11e9_968b_94942601c652\" ><thead>    <tr>        <th class=\"blank level0\" ></th>        <th class=\"col_heading level0 col0\" >Araki</th>        <th class=\"col_heading level0 col1\" >Baba</th>        <th class=\"col_heading level0 col2\" >Chou</th>    </tr>    <tr>        <th class=\"index_name level0\" >index</th>        <th class=\"blank\" ></th>        <th class=\"blank\" ></th>        <th class=\"blank\" ></th>    </tr></thead><tbody>\n",
       "                <tr>\n",
       "                        <th id=\"T_8d5b5622_d826_11e9_968b_94942601c652level0_row0\" class=\"row_heading level0 row0\" >国語</th>\n",
       "                        <td id=\"T_8d5b5622_d826_11e9_968b_94942601c652row0_col0\" class=\"data row0 col0\" >75</td>\n",
       "                        <td id=\"T_8d5b5622_d826_11e9_968b_94942601c652row0_col1\" class=\"data row0 col1\" >80</td>\n",
       "                        <td id=\"T_8d5b5622_d826_11e9_968b_94942601c652row0_col2\" class=\"data row0 col2\" >95</td>\n",
       "            </tr>\n",
       "            <tr>\n",
       "                        <th id=\"T_8d5b5622_d826_11e9_968b_94942601c652level0_row1\" class=\"row_heading level0 row1\" >数学</th>\n",
       "                        <td id=\"T_8d5b5622_d826_11e9_968b_94942601c652row1_col0\" class=\"data row1 col0\" >55</td>\n",
       "                        <td id=\"T_8d5b5622_d826_11e9_968b_94942601c652row1_col1\" class=\"data row1 col1\" >80</td>\n",
       "                        <td id=\"T_8d5b5622_d826_11e9_968b_94942601c652row1_col2\" class=\"data row1 col2\" >70</td>\n",
       "            </tr>\n",
       "            <tr>\n",
       "                        <th id=\"T_8d5b5622_d826_11e9_968b_94942601c652level0_row2\" class=\"row_heading level0 row2\" >理科</th>\n",
       "                        <td id=\"T_8d5b5622_d826_11e9_968b_94942601c652row2_col0\" class=\"data row2 col0\" >80</td>\n",
       "                        <td id=\"T_8d5b5622_d826_11e9_968b_94942601c652row2_col1\" class=\"data row2 col1\" >90</td>\n",
       "                        <td id=\"T_8d5b5622_d826_11e9_968b_94942601c652row2_col2\" class=\"data row2 col2\" >85</td>\n",
       "            </tr>\n",
       "            <tr>\n",
       "                        <th id=\"T_8d5b5622_d826_11e9_968b_94942601c652level0_row3\" class=\"row_heading level0 row3\" >社会</th>\n",
       "                        <td id=\"T_8d5b5622_d826_11e9_968b_94942601c652row3_col0\" class=\"data row3 col0\" >90</td>\n",
       "                        <td id=\"T_8d5b5622_d826_11e9_968b_94942601c652row3_col1\" class=\"data row3 col1\" >30</td>\n",
       "                        <td id=\"T_8d5b5622_d826_11e9_968b_94942601c652row3_col2\" class=\"data row3 col2\" >70</td>\n",
       "            </tr>\n",
       "    </tbody></table>"
      ],
      "text/plain": [
       "<pandas.io.formats.style.Styler at 0x1146266d8>"
      ]
     },
     "execution_count": 4,
     "metadata": {},
     "output_type": "execute_result"
    }
   ],
   "source": [
    "def highlight_akaten(val):\n",
    "    color = 'yellow' if val < 60 else 'None'\n",
    "    return f'background-color: {color}'\n",
    "\n",
    "df.style.applymap(highlight_akaten)"
   ]
  },
  {
   "cell_type": "code",
   "execution_count": 5,
   "metadata": {
    "ExecuteTime": {
     "end_time": "2019-09-15T21:37:30.881259Z",
     "start_time": "2019-09-15T21:37:30.838541Z"
    }
   },
   "outputs": [
    {
     "data": {
      "text/html": [
       "<style  type=\"text/css\" >\n",
       "    #T_8d61cd68_d826_11e9_ab35_94942601c652row0_col0 {\n",
       "            background-color:  None;\n",
       "             color:  black;\n",
       "        }    #T_8d61cd68_d826_11e9_ab35_94942601c652row0_col1 {\n",
       "            background-color:  None;\n",
       "             color:  black;\n",
       "        }    #T_8d61cd68_d826_11e9_ab35_94942601c652row0_col2 {\n",
       "            background-color:  None;\n",
       "             color:  black;\n",
       "        }    #T_8d61cd68_d826_11e9_ab35_94942601c652row1_col0 {\n",
       "            background-color:  None;\n",
       "             color:  black;\n",
       "        }    #T_8d61cd68_d826_11e9_ab35_94942601c652row1_col1 {\n",
       "            background-color:  gray;\n",
       "             color:  white;\n",
       "        }    #T_8d61cd68_d826_11e9_ab35_94942601c652row1_col2 {\n",
       "            background-color:  None;\n",
       "             color:  black;\n",
       "        }    #T_8d61cd68_d826_11e9_ab35_94942601c652row2_col0 {\n",
       "            background-color:  None;\n",
       "             color:  black;\n",
       "        }    #T_8d61cd68_d826_11e9_ab35_94942601c652row2_col1 {\n",
       "            background-color:  None;\n",
       "             color:  black;\n",
       "        }    #T_8d61cd68_d826_11e9_ab35_94942601c652row2_col2 {\n",
       "            background-color:  None;\n",
       "             color:  black;\n",
       "        }    #T_8d61cd68_d826_11e9_ab35_94942601c652row3_col0 {\n",
       "            background-color:  None;\n",
       "             color:  black;\n",
       "        }    #T_8d61cd68_d826_11e9_ab35_94942601c652row3_col1 {\n",
       "            background-color:  None;\n",
       "             color:  black;\n",
       "        }    #T_8d61cd68_d826_11e9_ab35_94942601c652row3_col2 {\n",
       "            background-color:  None;\n",
       "             color:  black;\n",
       "        }</style><table id=\"T_8d61cd68_d826_11e9_ab35_94942601c652\" ><thead>    <tr>        <th class=\"blank level0\" ></th>        <th class=\"col_heading level0 col0\" >Araki</th>        <th class=\"col_heading level0 col1\" >Baba</th>        <th class=\"col_heading level0 col2\" >Chou</th>    </tr>    <tr>        <th class=\"index_name level0\" >index</th>        <th class=\"blank\" ></th>        <th class=\"blank\" ></th>        <th class=\"blank\" ></th>    </tr></thead><tbody>\n",
       "                <tr>\n",
       "                        <th id=\"T_8d61cd68_d826_11e9_ab35_94942601c652level0_row0\" class=\"row_heading level0 row0\" >国語</th>\n",
       "                        <td id=\"T_8d61cd68_d826_11e9_ab35_94942601c652row0_col0\" class=\"data row0 col0\" >75</td>\n",
       "                        <td id=\"T_8d61cd68_d826_11e9_ab35_94942601c652row0_col1\" class=\"data row0 col1\" >80</td>\n",
       "                        <td id=\"T_8d61cd68_d826_11e9_ab35_94942601c652row0_col2\" class=\"data row0 col2\" >95</td>\n",
       "            </tr>\n",
       "            <tr>\n",
       "                        <th id=\"T_8d61cd68_d826_11e9_ab35_94942601c652level0_row1\" class=\"row_heading level0 row1\" >数学</th>\n",
       "                        <td id=\"T_8d61cd68_d826_11e9_ab35_94942601c652row1_col0\" class=\"data row1 col0\" >55</td>\n",
       "                        <td id=\"T_8d61cd68_d826_11e9_ab35_94942601c652row1_col1\" class=\"data row1 col1\" >nan</td>\n",
       "                        <td id=\"T_8d61cd68_d826_11e9_ab35_94942601c652row1_col2\" class=\"data row1 col2\" >70</td>\n",
       "            </tr>\n",
       "            <tr>\n",
       "                        <th id=\"T_8d61cd68_d826_11e9_ab35_94942601c652level0_row2\" class=\"row_heading level0 row2\" >理科</th>\n",
       "                        <td id=\"T_8d61cd68_d826_11e9_ab35_94942601c652row2_col0\" class=\"data row2 col0\" >80</td>\n",
       "                        <td id=\"T_8d61cd68_d826_11e9_ab35_94942601c652row2_col1\" class=\"data row2 col1\" >90</td>\n",
       "                        <td id=\"T_8d61cd68_d826_11e9_ab35_94942601c652row2_col2\" class=\"data row2 col2\" >85</td>\n",
       "            </tr>\n",
       "            <tr>\n",
       "                        <th id=\"T_8d61cd68_d826_11e9_ab35_94942601c652level0_row3\" class=\"row_heading level0 row3\" >社会</th>\n",
       "                        <td id=\"T_8d61cd68_d826_11e9_ab35_94942601c652row3_col0\" class=\"data row3 col0\" >90</td>\n",
       "                        <td id=\"T_8d61cd68_d826_11e9_ab35_94942601c652row3_col1\" class=\"data row3 col1\" >30</td>\n",
       "                        <td id=\"T_8d61cd68_d826_11e9_ab35_94942601c652row3_col2\" class=\"data row3 col2\" >70</td>\n",
       "            </tr>\n",
       "    </tbody></table>"
      ],
      "text/plain": [
       "<pandas.io.formats.style.Styler at 0x114acf710>"
      ]
     },
     "execution_count": 5,
     "metadata": {},
     "output_type": "execute_result"
    }
   ],
   "source": [
    "def fill_nan(val):\n",
    "    bg_color = 'gray' if pd.isnull(val) else 'None'\n",
    "    color = 'white' if pd.isnull(val) else 'black'\n",
    "    return f'background-color: {bg_color}; color: {color}'\n",
    "\n",
    "# 欠損値を含むデータを読み込む\n",
    "df = pd.read_csv('../data/exam_with_nan.csv', index_col='index')\n",
    "df.style.applymap(fill_nan)"
   ]
  },
  {
   "cell_type": "code",
   "execution_count": 6,
   "metadata": {
    "ExecuteTime": {
     "end_time": "2019-09-15T21:37:31.233593Z",
     "start_time": "2019-09-15T21:37:31.223291Z"
    }
   },
   "outputs": [
    {
     "data": {
      "text/plain": [
       "pandas.io.formats.style.Styler"
      ]
     },
     "execution_count": 6,
     "metadata": {},
     "output_type": "execute_result"
    }
   ],
   "source": [
    "type(df.style)"
   ]
  },
  {
   "cell_type": "code",
   "execution_count": 7,
   "metadata": {
    "ExecuteTime": {
     "end_time": "2019-09-15T21:37:31.623190Z",
     "start_time": "2019-09-15T21:37:31.609245Z"
    }
   },
   "outputs": [
    {
     "data": {
      "text/html": [
       "<style  type=\"text/css\" >\n",
       "</style><table id=\"T_8d66ac86_d826_11e9_9db4_94942601c652\" ><thead>    <tr>        <th class=\"blank level0\" ></th>        <th class=\"col_heading level0 col0\" >Araki</th>        <th class=\"col_heading level0 col1\" >Baba</th>        <th class=\"col_heading level0 col2\" >Chou</th>    </tr>    <tr>        <th class=\"index_name level0\" >index</th>        <th class=\"blank\" ></th>        <th class=\"blank\" ></th>        <th class=\"blank\" ></th>    </tr></thead><tbody>\n",
       "                <tr>\n",
       "                        <th id=\"T_8d66ac86_d826_11e9_9db4_94942601c652level0_row0\" class=\"row_heading level0 row0\" >国語</th>\n",
       "                        <td id=\"T_8d66ac86_d826_11e9_9db4_94942601c652row0_col0\" class=\"data row0 col0\" >75</td>\n",
       "                        <td id=\"T_8d66ac86_d826_11e9_9db4_94942601c652row0_col1\" class=\"data row0 col1\" >80</td>\n",
       "                        <td id=\"T_8d66ac86_d826_11e9_9db4_94942601c652row0_col2\" class=\"data row0 col2\" >95</td>\n",
       "            </tr>\n",
       "            <tr>\n",
       "                        <th id=\"T_8d66ac86_d826_11e9_9db4_94942601c652level0_row1\" class=\"row_heading level0 row1\" >数学</th>\n",
       "                        <td id=\"T_8d66ac86_d826_11e9_9db4_94942601c652row1_col0\" class=\"data row1 col0\" >55</td>\n",
       "                        <td id=\"T_8d66ac86_d826_11e9_9db4_94942601c652row1_col1\" class=\"data row1 col1\" >nan</td>\n",
       "                        <td id=\"T_8d66ac86_d826_11e9_9db4_94942601c652row1_col2\" class=\"data row1 col2\" >70</td>\n",
       "            </tr>\n",
       "            <tr>\n",
       "                        <th id=\"T_8d66ac86_d826_11e9_9db4_94942601c652level0_row2\" class=\"row_heading level0 row2\" >理科</th>\n",
       "                        <td id=\"T_8d66ac86_d826_11e9_9db4_94942601c652row2_col0\" class=\"data row2 col0\" >80</td>\n",
       "                        <td id=\"T_8d66ac86_d826_11e9_9db4_94942601c652row2_col1\" class=\"data row2 col1\" >90</td>\n",
       "                        <td id=\"T_8d66ac86_d826_11e9_9db4_94942601c652row2_col2\" class=\"data row2 col2\" >85</td>\n",
       "            </tr>\n",
       "            <tr>\n",
       "                        <th id=\"T_8d66ac86_d826_11e9_9db4_94942601c652level0_row3\" class=\"row_heading level0 row3\" >社会</th>\n",
       "                        <td id=\"T_8d66ac86_d826_11e9_9db4_94942601c652row3_col0\" class=\"data row3 col0\" >90</td>\n",
       "                        <td id=\"T_8d66ac86_d826_11e9_9db4_94942601c652row3_col1\" class=\"data row3 col1\" >30</td>\n",
       "                        <td id=\"T_8d66ac86_d826_11e9_9db4_94942601c652row3_col2\" class=\"data row3 col2\" >70</td>\n",
       "            </tr>\n",
       "    </tbody></table>"
      ],
      "text/plain": [
       "<pandas.io.formats.style.Styler at 0x1146478d0>"
      ]
     },
     "execution_count": 7,
     "metadata": {},
     "output_type": "execute_result"
    }
   ],
   "source": [
    "df.style"
   ]
  },
  {
   "cell_type": "code",
   "execution_count": 8,
   "metadata": {
    "ExecuteTime": {
     "end_time": "2019-09-15T21:37:32.009724Z",
     "start_time": "2019-09-15T21:37:31.997198Z"
    }
   },
   "outputs": [
    {
     "data": {
      "text/plain": [
       "['<style  type=\"text/css\" >',\n",
       " '</style><table id=\"T_8d699aca_d826_11e9_a63f_94942601c652\" ><thead>    <tr>        <th class=\"blank level0\" ></th>        <th class=\"col_heading level0 col0\" >Araki</th>        <th class=\"col_heading level0 col1\" >Baba</th>        <th class=\"col_heading level0 col2\" >Chou</th>    </tr>    <tr>        <th class=\"index_name level0\" >index</th>        <th class=\"blank\" ></th>        <th class=\"blank\" ></th>        <th class=\"blank\" ></th>    </tr></thead><tbody>',\n",
       " '                <tr>',\n",
       " '                        <th id=\"T_8d699aca_d826_11e9_a63f_94942601c652level0_row0\" class=\"row_heading level0 row0\" >国語</th>',\n",
       " '                        <td id=\"T_8d699aca_d826_11e9_a63f_94942601c652row0_col0\" class=\"data row0 col0\" >75</td>',\n",
       " '                        <td id=\"T_8d699aca_d826_11e9_a63f_94942601c652row0_col1\" class=\"data row0 col1\" >80</td>',\n",
       " '                        <td id=\"T_8d699aca_d826_11e9_a63f_94942601c652row0_col2\" class=\"data row0 col2\" >95</td>',\n",
       " '            </tr>',\n",
       " '            <tr>',\n",
       " '                        <th id=\"T_8d699aca_d826_11e9_a63f_94942601c652level0_row1\" class=\"row_heading level0 row1\" >数学</th>',\n",
       " '                        <td id=\"T_8d699aca_d826_11e9_a63f_94942601c652row1_col0\" class=\"data row1 col0\" >55</td>',\n",
       " '                        <td id=\"T_8d699aca_d826_11e9_a63f_94942601c652row1_col1\" class=\"data row1 col1\" >nan</td>',\n",
       " '                        <td id=\"T_8d699aca_d826_11e9_a63f_94942601c652row1_col2\" class=\"data row1 col2\" >70</td>',\n",
       " '            </tr>',\n",
       " '            <tr>',\n",
       " '                        <th id=\"T_8d699aca_d826_11e9_a63f_94942601c652level0_row2\" class=\"row_heading level0 row2\" >理科</th>',\n",
       " '                        <td id=\"T_8d699aca_d826_11e9_a63f_94942601c652row2_col0\" class=\"data row2 col0\" >80</td>',\n",
       " '                        <td id=\"T_8d699aca_d826_11e9_a63f_94942601c652row2_col1\" class=\"data row2 col1\" >90</td>',\n",
       " '                        <td id=\"T_8d699aca_d826_11e9_a63f_94942601c652row2_col2\" class=\"data row2 col2\" >85</td>',\n",
       " '            </tr>']"
      ]
     },
     "execution_count": 8,
     "metadata": {},
     "output_type": "execute_result"
    }
   ],
   "source": [
    "# のぞいてみよう\n",
    "df.style.render().split('\\n')[:20]"
   ]
  },
  {
   "cell_type": "code",
   "execution_count": 9,
   "metadata": {
    "ExecuteTime": {
     "end_time": "2019-09-15T21:37:32.413736Z",
     "start_time": "2019-09-15T21:37:32.381559Z"
    }
   },
   "outputs": [
    {
     "data": {
      "text/plain": [
       "['<style  type=\"text/css\" >',\n",
       " '    #T_8d6fb9b4_d826_11e9_9e34_94942601c652row0_col0 {',\n",
       " '            color:  black;',\n",
       " '        }    #T_8d6fb9b4_d826_11e9_9e34_94942601c652row0_col1 {',\n",
       " '            color:  black;',\n",
       " '        }    #T_8d6fb9b4_d826_11e9_9e34_94942601c652row0_col2 {',\n",
       " '            color:  black;',\n",
       " '        }    #T_8d6fb9b4_d826_11e9_9e34_94942601c652row1_col0 {',\n",
       " '            color:  red;',\n",
       " '        }    #T_8d6fb9b4_d826_11e9_9e34_94942601c652row1_col1 {',\n",
       " '            color:  black;',\n",
       " '        }    #T_8d6fb9b4_d826_11e9_9e34_94942601c652row1_col2 {',\n",
       " '            color:  black;',\n",
       " '        }    #T_8d6fb9b4_d826_11e9_9e34_94942601c652row2_col0 {',\n",
       " '            color:  black;',\n",
       " '        }    #T_8d6fb9b4_d826_11e9_9e34_94942601c652row2_col1 {',\n",
       " '            color:  black;',\n",
       " '        }    #T_8d6fb9b4_d826_11e9_9e34_94942601c652row2_col2 {',\n",
       " '            color:  black;',\n",
       " '        }    #T_8d6fb9b4_d826_11e9_9e34_94942601c652row3_col0 {']"
      ]
     },
     "execution_count": 9,
     "metadata": {},
     "output_type": "execute_result"
    }
   ],
   "source": [
    "# スタイル適用後のCSSの設定\n",
    "df.style.applymap(color_red_akaten).render().split('\\n')[:20]"
   ]
  },
  {
   "cell_type": "markdown",
   "metadata": {},
   "source": [
    "## スタイル関数を複数適用する\n",
    "- `applymap()`は`Styler`オブジェクトを返す\n",
    "- その`Styler`オブジェクトも（当然だが）`applymap()`を持つ\n",
    "- 数珠つなぎのようにスタイルの重ねがけができる"
   ]
  },
  {
   "cell_type": "code",
   "execution_count": 10,
   "metadata": {},
   "outputs": [
    {
     "data": {
      "text/html": [
       "<style  type=\"text/css\" >\n",
       "    #T_8d7afe1e_d826_11e9_b485_94942601c652row0_col0 {\n",
       "            background-color:  None;\n",
       "             color:  black;\n",
       "            color:  black;\n",
       "        }    #T_8d7afe1e_d826_11e9_b485_94942601c652row0_col1 {\n",
       "            background-color:  None;\n",
       "             color:  black;\n",
       "            color:  black;\n",
       "        }    #T_8d7afe1e_d826_11e9_b485_94942601c652row0_col2 {\n",
       "            background-color:  None;\n",
       "             color:  black;\n",
       "            color:  black;\n",
       "        }    #T_8d7afe1e_d826_11e9_b485_94942601c652row1_col0 {\n",
       "            background-color:  None;\n",
       "             color:  black;\n",
       "            color:  red;\n",
       "        }    #T_8d7afe1e_d826_11e9_b485_94942601c652row1_col1 {\n",
       "            background-color:  gray;\n",
       "             color:  white;\n",
       "            color:  black;\n",
       "        }    #T_8d7afe1e_d826_11e9_b485_94942601c652row1_col2 {\n",
       "            background-color:  None;\n",
       "             color:  black;\n",
       "            color:  black;\n",
       "        }    #T_8d7afe1e_d826_11e9_b485_94942601c652row2_col0 {\n",
       "            background-color:  None;\n",
       "             color:  black;\n",
       "            color:  black;\n",
       "        }    #T_8d7afe1e_d826_11e9_b485_94942601c652row2_col1 {\n",
       "            background-color:  None;\n",
       "             color:  black;\n",
       "            color:  black;\n",
       "        }    #T_8d7afe1e_d826_11e9_b485_94942601c652row2_col2 {\n",
       "            background-color:  None;\n",
       "             color:  black;\n",
       "            color:  black;\n",
       "        }    #T_8d7afe1e_d826_11e9_b485_94942601c652row3_col0 {\n",
       "            background-color:  None;\n",
       "             color:  black;\n",
       "            color:  black;\n",
       "        }    #T_8d7afe1e_d826_11e9_b485_94942601c652row3_col1 {\n",
       "            background-color:  None;\n",
       "             color:  black;\n",
       "            color:  red;\n",
       "        }    #T_8d7afe1e_d826_11e9_b485_94942601c652row3_col2 {\n",
       "            background-color:  None;\n",
       "             color:  black;\n",
       "            color:  black;\n",
       "        }</style><table id=\"T_8d7afe1e_d826_11e9_b485_94942601c652\" ><thead>    <tr>        <th class=\"blank level0\" ></th>        <th class=\"col_heading level0 col0\" >Araki</th>        <th class=\"col_heading level0 col1\" >Baba</th>        <th class=\"col_heading level0 col2\" >Chou</th>    </tr>    <tr>        <th class=\"index_name level0\" >index</th>        <th class=\"blank\" ></th>        <th class=\"blank\" ></th>        <th class=\"blank\" ></th>    </tr></thead><tbody>\n",
       "                <tr>\n",
       "                        <th id=\"T_8d7afe1e_d826_11e9_b485_94942601c652level0_row0\" class=\"row_heading level0 row0\" >国語</th>\n",
       "                        <td id=\"T_8d7afe1e_d826_11e9_b485_94942601c652row0_col0\" class=\"data row0 col0\" >75</td>\n",
       "                        <td id=\"T_8d7afe1e_d826_11e9_b485_94942601c652row0_col1\" class=\"data row0 col1\" >80</td>\n",
       "                        <td id=\"T_8d7afe1e_d826_11e9_b485_94942601c652row0_col2\" class=\"data row0 col2\" >95</td>\n",
       "            </tr>\n",
       "            <tr>\n",
       "                        <th id=\"T_8d7afe1e_d826_11e9_b485_94942601c652level0_row1\" class=\"row_heading level0 row1\" >数学</th>\n",
       "                        <td id=\"T_8d7afe1e_d826_11e9_b485_94942601c652row1_col0\" class=\"data row1 col0\" >55</td>\n",
       "                        <td id=\"T_8d7afe1e_d826_11e9_b485_94942601c652row1_col1\" class=\"data row1 col1\" >nan</td>\n",
       "                        <td id=\"T_8d7afe1e_d826_11e9_b485_94942601c652row1_col2\" class=\"data row1 col2\" >70</td>\n",
       "            </tr>\n",
       "            <tr>\n",
       "                        <th id=\"T_8d7afe1e_d826_11e9_b485_94942601c652level0_row2\" class=\"row_heading level0 row2\" >理科</th>\n",
       "                        <td id=\"T_8d7afe1e_d826_11e9_b485_94942601c652row2_col0\" class=\"data row2 col0\" >80</td>\n",
       "                        <td id=\"T_8d7afe1e_d826_11e9_b485_94942601c652row2_col1\" class=\"data row2 col1\" >90</td>\n",
       "                        <td id=\"T_8d7afe1e_d826_11e9_b485_94942601c652row2_col2\" class=\"data row2 col2\" >85</td>\n",
       "            </tr>\n",
       "            <tr>\n",
       "                        <th id=\"T_8d7afe1e_d826_11e9_b485_94942601c652level0_row3\" class=\"row_heading level0 row3\" >社会</th>\n",
       "                        <td id=\"T_8d7afe1e_d826_11e9_b485_94942601c652row3_col0\" class=\"data row3 col0\" >90</td>\n",
       "                        <td id=\"T_8d7afe1e_d826_11e9_b485_94942601c652row3_col1\" class=\"data row3 col1\" >30</td>\n",
       "                        <td id=\"T_8d7afe1e_d826_11e9_b485_94942601c652row3_col2\" class=\"data row3 col2\" >70</td>\n",
       "            </tr>\n",
       "    </tbody></table>"
      ],
      "text/plain": [
       "<pandas.io.formats.style.Styler at 0x114a35320>"
      ]
     },
     "execution_count": 10,
     "metadata": {},
     "output_type": "execute_result"
    }
   ],
   "source": [
    "df.style.applymap(fill_nan).applymap(color_red_akaten)"
   ]
  },
  {
   "cell_type": "markdown",
   "metadata": {},
   "source": [
    "### 最後に適用したCSSが優先される"
   ]
  },
  {
   "cell_type": "code",
   "execution_count": 11,
   "metadata": {
    "ExecuteTime": {
     "end_time": "2019-09-15T21:37:33.597148Z",
     "start_time": "2019-09-15T21:37:33.550312Z"
    }
   },
   "outputs": [
    {
     "data": {
      "text/html": [
       "<style  type=\"text/css\" >\n",
       "    #T_8d84a46e_d826_11e9_b11f_94942601c652row0_col0 {\n",
       "            background-color:  None;\n",
       "             color:  black;\n",
       "            background-color:  None;\n",
       "             color:  black;\n",
       "        }    #T_8d84a46e_d826_11e9_b11f_94942601c652row0_col1 {\n",
       "            background-color:  None;\n",
       "             color:  black;\n",
       "            background-color:  None;\n",
       "             color:  black;\n",
       "        }    #T_8d84a46e_d826_11e9_b11f_94942601c652row0_col2 {\n",
       "            background-color:  None;\n",
       "             color:  black;\n",
       "            background-color:  None;\n",
       "             color:  black;\n",
       "        }    #T_8d84a46e_d826_11e9_b11f_94942601c652row1_col0 {\n",
       "            background-color:  None;\n",
       "             color:  black;\n",
       "            background-color:  None;\n",
       "             color:  black;\n",
       "        }    #T_8d84a46e_d826_11e9_b11f_94942601c652row1_col1 {\n",
       "            background-color:  gray;\n",
       "             color:  white;\n",
       "            background-color:  black;\n",
       "             color:  yellow;\n",
       "        }    #T_8d84a46e_d826_11e9_b11f_94942601c652row1_col2 {\n",
       "            background-color:  None;\n",
       "             color:  black;\n",
       "            background-color:  None;\n",
       "             color:  black;\n",
       "        }    #T_8d84a46e_d826_11e9_b11f_94942601c652row2_col0 {\n",
       "            background-color:  None;\n",
       "             color:  black;\n",
       "            background-color:  None;\n",
       "             color:  black;\n",
       "        }    #T_8d84a46e_d826_11e9_b11f_94942601c652row2_col1 {\n",
       "            background-color:  None;\n",
       "             color:  black;\n",
       "            background-color:  None;\n",
       "             color:  black;\n",
       "        }    #T_8d84a46e_d826_11e9_b11f_94942601c652row2_col2 {\n",
       "            background-color:  None;\n",
       "             color:  black;\n",
       "            background-color:  None;\n",
       "             color:  black;\n",
       "        }    #T_8d84a46e_d826_11e9_b11f_94942601c652row3_col0 {\n",
       "            background-color:  None;\n",
       "             color:  black;\n",
       "            background-color:  None;\n",
       "             color:  black;\n",
       "        }    #T_8d84a46e_d826_11e9_b11f_94942601c652row3_col1 {\n",
       "            background-color:  None;\n",
       "             color:  black;\n",
       "            background-color:  None;\n",
       "             color:  black;\n",
       "        }    #T_8d84a46e_d826_11e9_b11f_94942601c652row3_col2 {\n",
       "            background-color:  None;\n",
       "             color:  black;\n",
       "            background-color:  None;\n",
       "             color:  black;\n",
       "        }</style><table id=\"T_8d84a46e_d826_11e9_b11f_94942601c652\" ><thead>    <tr>        <th class=\"blank level0\" ></th>        <th class=\"col_heading level0 col0\" >Araki</th>        <th class=\"col_heading level0 col1\" >Baba</th>        <th class=\"col_heading level0 col2\" >Chou</th>    </tr>    <tr>        <th class=\"index_name level0\" >index</th>        <th class=\"blank\" ></th>        <th class=\"blank\" ></th>        <th class=\"blank\" ></th>    </tr></thead><tbody>\n",
       "                <tr>\n",
       "                        <th id=\"T_8d84a46e_d826_11e9_b11f_94942601c652level0_row0\" class=\"row_heading level0 row0\" >国語</th>\n",
       "                        <td id=\"T_8d84a46e_d826_11e9_b11f_94942601c652row0_col0\" class=\"data row0 col0\" >75</td>\n",
       "                        <td id=\"T_8d84a46e_d826_11e9_b11f_94942601c652row0_col1\" class=\"data row0 col1\" >80</td>\n",
       "                        <td id=\"T_8d84a46e_d826_11e9_b11f_94942601c652row0_col2\" class=\"data row0 col2\" >95</td>\n",
       "            </tr>\n",
       "            <tr>\n",
       "                        <th id=\"T_8d84a46e_d826_11e9_b11f_94942601c652level0_row1\" class=\"row_heading level0 row1\" >数学</th>\n",
       "                        <td id=\"T_8d84a46e_d826_11e9_b11f_94942601c652row1_col0\" class=\"data row1 col0\" >55</td>\n",
       "                        <td id=\"T_8d84a46e_d826_11e9_b11f_94942601c652row1_col1\" class=\"data row1 col1\" >nan</td>\n",
       "                        <td id=\"T_8d84a46e_d826_11e9_b11f_94942601c652row1_col2\" class=\"data row1 col2\" >70</td>\n",
       "            </tr>\n",
       "            <tr>\n",
       "                        <th id=\"T_8d84a46e_d826_11e9_b11f_94942601c652level0_row2\" class=\"row_heading level0 row2\" >理科</th>\n",
       "                        <td id=\"T_8d84a46e_d826_11e9_b11f_94942601c652row2_col0\" class=\"data row2 col0\" >80</td>\n",
       "                        <td id=\"T_8d84a46e_d826_11e9_b11f_94942601c652row2_col1\" class=\"data row2 col1\" >90</td>\n",
       "                        <td id=\"T_8d84a46e_d826_11e9_b11f_94942601c652row2_col2\" class=\"data row2 col2\" >85</td>\n",
       "            </tr>\n",
       "            <tr>\n",
       "                        <th id=\"T_8d84a46e_d826_11e9_b11f_94942601c652level0_row3\" class=\"row_heading level0 row3\" >社会</th>\n",
       "                        <td id=\"T_8d84a46e_d826_11e9_b11f_94942601c652row3_col0\" class=\"data row3 col0\" >90</td>\n",
       "                        <td id=\"T_8d84a46e_d826_11e9_b11f_94942601c652row3_col1\" class=\"data row3 col1\" >30</td>\n",
       "                        <td id=\"T_8d84a46e_d826_11e9_b11f_94942601c652row3_col2\" class=\"data row3 col2\" >70</td>\n",
       "            </tr>\n",
       "    </tbody></table>"
      ],
      "text/plain": [
       "<pandas.io.formats.style.Styler at 0x114ac3fd0>"
      ]
     },
     "execution_count": 11,
     "metadata": {},
     "output_type": "execute_result"
    }
   ],
   "source": [
    "def fill_nan_1(val):\n",
    "    # 背景を灰色、文字を白にする\n",
    "    bg_color = 'gray' if pd.isnull(val) else 'None'\n",
    "    color = 'white' if pd.isnull(val) else 'black'\n",
    "    return f'background-color: {bg_color}; color: {color}'\n",
    "\n",
    "def fill_nan_2(val):\n",
    "    # 背景を黒、文字を黄色にする\n",
    "    bg_color = 'black' if pd.isnull(val) else 'None'\n",
    "    color = 'yellow' if pd.isnull(val) else 'black'\n",
    "    return f'background-color: {bg_color}; color: {color}'\n",
    "\n",
    "df.style.applymap(fill_nan_1).applymap(fill_nan_2)"
   ]
  },
  {
   "cell_type": "code",
   "execution_count": 12,
   "metadata": {
    "ExecuteTime": {
     "end_time": "2019-09-15T21:37:34.131969Z",
     "start_time": "2019-09-15T21:37:34.090819Z"
    }
   },
   "outputs": [
    {
     "data": {
      "text/plain": [
       "['<style  type=\"text/css\" >',\n",
       " '    #T_8d8ce446_d826_11e9_b7fa_94942601c652row0_col0 {',\n",
       " '            background-color:  None;',\n",
       " '             color:  black;',\n",
       " '            background-color:  None;',\n",
       " '             color:  black;',\n",
       " '        }    #T_8d8ce446_d826_11e9_b7fa_94942601c652row0_col1 {',\n",
       " '            background-color:  None;',\n",
       " '             color:  black;',\n",
       " '            background-color:  None;',\n",
       " '             color:  black;',\n",
       " '        }    #T_8d8ce446_d826_11e9_b7fa_94942601c652row0_col2 {',\n",
       " '            background-color:  None;',\n",
       " '             color:  black;',\n",
       " '            background-color:  None;',\n",
       " '             color:  black;',\n",
       " '        }    #T_8d8ce446_d826_11e9_b7fa_94942601c652row1_col0 {',\n",
       " '            background-color:  None;',\n",
       " '             color:  black;',\n",
       " '            background-color:  None;',\n",
       " '             color:  black;',\n",
       " '        }    #T_8d8ce446_d826_11e9_b7fa_94942601c652row1_col1 {',\n",
       " '            background-color:  gray;',\n",
       " '             color:  white;',\n",
       " '            background-color:  black;',\n",
       " '             color:  yellow;',\n",
       " '        }    #T_8d8ce446_d826_11e9_b7fa_94942601c652row1_col2 {',\n",
       " '            background-color:  None;',\n",
       " '             color:  black;',\n",
       " '            background-color:  None;',\n",
       " '             color:  black;',\n",
       " '        }    #T_8d8ce446_d826_11e9_b7fa_94942601c652row2_col0 {',\n",
       " '            background-color:  None;',\n",
       " '             color:  black;',\n",
       " '            background-color:  None;',\n",
       " '             color:  black;',\n",
       " '        }    #T_8d8ce446_d826_11e9_b7fa_94942601c652row2_col1 {',\n",
       " '            background-color:  None;',\n",
       " '             color:  black;',\n",
       " '            background-color:  None;',\n",
       " '             color:  black;',\n",
       " '        }    #T_8d8ce446_d826_11e9_b7fa_94942601c652row2_col2 {',\n",
       " '            background-color:  None;',\n",
       " '             color:  black;',\n",
       " '            background-color:  None;',\n",
       " '             color:  black;',\n",
       " '        }    #T_8d8ce446_d826_11e9_b7fa_94942601c652row3_col0 {',\n",
       " '            background-color:  None;',\n",
       " '             color:  black;',\n",
       " '            background-color:  None;']"
      ]
     },
     "execution_count": 12,
     "metadata": {},
     "output_type": "execute_result"
    }
   ],
   "source": [
    "# CSSの中身を確認\n",
    "s = df.style.applymap(fill_nan_1).applymap(fill_nan_2)\n",
    "s.render().split('\\n')[:50]"
   ]
  },
  {
   "cell_type": "markdown",
   "metadata": {},
   "source": [
    "ここでやっていることは次の2点です\n",
    "- **スタイル関数**を用意する\n",
    "    - ここでは、`color_all_red`関数を自分で定義している\n",
    "    - 要素の値を受け取って、要素ごとのCSSを返す\n",
    "- スタイル関数を、`applymap`メソッドを使って各要素に対して適用する\n",
    "    - `applymap`は`Styler`オブジェクトを返す"
   ]
  },
  {
   "cell_type": "markdown",
   "metadata": {},
   "source": [
    "# 列全体、行全体、テーブル全体\n",
    "先ほどまでの「値が60点未満かどうか」「値が80点以上かどうか」は、その要素単体を見れば判断できました。   \n",
    "では、「全ての行で一番大きい値の背景色を黄色にする」「全ての列で一番小さい値の文字を太字にする」といった場合はどうすればよいでしょうか。   \n",
    "このようなケースでは、要素単体の値からは判断できないので、「列全体」「行全体」「テーブル全体」を見て判断する必要があります。   \n",
    "このような場合は、 `applymap` ではなく、`apply`を使います。  "
   ]
  },
  {
   "cell_type": "code",
   "execution_count": 15,
   "metadata": {
    "ExecuteTime": {
     "end_time": "2019-09-15T21:37:38.474469Z",
     "start_time": "2019-09-15T21:37:38.436895Z"
    }
   },
   "outputs": [
    {
     "data": {
      "text/html": [
       "<style  type=\"text/css\" >\n",
       "    #T_8da1f6e2_d826_11e9_b1fe_94942601c652row0_col0 {\n",
       "            background-color:  none;\n",
       "        }    #T_8da1f6e2_d826_11e9_b1fe_94942601c652row0_col1 {\n",
       "            background-color:  none;\n",
       "        }    #T_8da1f6e2_d826_11e9_b1fe_94942601c652row0_col2 {\n",
       "            background-color:  lightgreen;\n",
       "        }    #T_8da1f6e2_d826_11e9_b1fe_94942601c652row1_col0 {\n",
       "            background-color:  none;\n",
       "        }    #T_8da1f6e2_d826_11e9_b1fe_94942601c652row1_col1 {\n",
       "            background-color:  none;\n",
       "        }    #T_8da1f6e2_d826_11e9_b1fe_94942601c652row1_col2 {\n",
       "            background-color:  lightgreen;\n",
       "        }    #T_8da1f6e2_d826_11e9_b1fe_94942601c652row2_col0 {\n",
       "            background-color:  none;\n",
       "        }    #T_8da1f6e2_d826_11e9_b1fe_94942601c652row2_col1 {\n",
       "            background-color:  lightgreen;\n",
       "        }    #T_8da1f6e2_d826_11e9_b1fe_94942601c652row2_col2 {\n",
       "            background-color:  none;\n",
       "        }    #T_8da1f6e2_d826_11e9_b1fe_94942601c652row3_col0 {\n",
       "            background-color:  lightgreen;\n",
       "        }    #T_8da1f6e2_d826_11e9_b1fe_94942601c652row3_col1 {\n",
       "            background-color:  none;\n",
       "        }    #T_8da1f6e2_d826_11e9_b1fe_94942601c652row3_col2 {\n",
       "            background-color:  none;\n",
       "        }</style><table id=\"T_8da1f6e2_d826_11e9_b1fe_94942601c652\" ><thead>    <tr>        <th class=\"blank level0\" ></th>        <th class=\"col_heading level0 col0\" >Araki</th>        <th class=\"col_heading level0 col1\" >Baba</th>        <th class=\"col_heading level0 col2\" >Chou</th>    </tr>    <tr>        <th class=\"index_name level0\" >index</th>        <th class=\"blank\" ></th>        <th class=\"blank\" ></th>        <th class=\"blank\" ></th>    </tr></thead><tbody>\n",
       "                <tr>\n",
       "                        <th id=\"T_8da1f6e2_d826_11e9_b1fe_94942601c652level0_row0\" class=\"row_heading level0 row0\" >国語</th>\n",
       "                        <td id=\"T_8da1f6e2_d826_11e9_b1fe_94942601c652row0_col0\" class=\"data row0 col0\" >75</td>\n",
       "                        <td id=\"T_8da1f6e2_d826_11e9_b1fe_94942601c652row0_col1\" class=\"data row0 col1\" >80</td>\n",
       "                        <td id=\"T_8da1f6e2_d826_11e9_b1fe_94942601c652row0_col2\" class=\"data row0 col2\" >95</td>\n",
       "            </tr>\n",
       "            <tr>\n",
       "                        <th id=\"T_8da1f6e2_d826_11e9_b1fe_94942601c652level0_row1\" class=\"row_heading level0 row1\" >数学</th>\n",
       "                        <td id=\"T_8da1f6e2_d826_11e9_b1fe_94942601c652row1_col0\" class=\"data row1 col0\" >55</td>\n",
       "                        <td id=\"T_8da1f6e2_d826_11e9_b1fe_94942601c652row1_col1\" class=\"data row1 col1\" >nan</td>\n",
       "                        <td id=\"T_8da1f6e2_d826_11e9_b1fe_94942601c652row1_col2\" class=\"data row1 col2\" >70</td>\n",
       "            </tr>\n",
       "            <tr>\n",
       "                        <th id=\"T_8da1f6e2_d826_11e9_b1fe_94942601c652level0_row2\" class=\"row_heading level0 row2\" >理科</th>\n",
       "                        <td id=\"T_8da1f6e2_d826_11e9_b1fe_94942601c652row2_col0\" class=\"data row2 col0\" >80</td>\n",
       "                        <td id=\"T_8da1f6e2_d826_11e9_b1fe_94942601c652row2_col1\" class=\"data row2 col1\" >90</td>\n",
       "                        <td id=\"T_8da1f6e2_d826_11e9_b1fe_94942601c652row2_col2\" class=\"data row2 col2\" >85</td>\n",
       "            </tr>\n",
       "            <tr>\n",
       "                        <th id=\"T_8da1f6e2_d826_11e9_b1fe_94942601c652level0_row3\" class=\"row_heading level0 row3\" >社会</th>\n",
       "                        <td id=\"T_8da1f6e2_d826_11e9_b1fe_94942601c652row3_col0\" class=\"data row3 col0\" >90</td>\n",
       "                        <td id=\"T_8da1f6e2_d826_11e9_b1fe_94942601c652row3_col1\" class=\"data row3 col1\" >30</td>\n",
       "                        <td id=\"T_8da1f6e2_d826_11e9_b1fe_94942601c652row3_col2\" class=\"data row3 col2\" >70</td>\n",
       "            </tr>\n",
       "    </tbody></table>"
      ],
      "text/plain": [
       "<pandas.io.formats.style.Styler at 0x114ac3048>"
      ]
     },
     "execution_count": 15,
     "metadata": {},
     "output_type": "execute_result"
    }
   ],
   "source": [
    "def highlight_green_max(series):\n",
    "    # 最大値だったらlightgreen, それ以外だったらnone(スタイルなし)にする\n",
    "    color_list = ['lightgreen' if val == series.max() else 'none'\n",
    "                  for val in series]\n",
    "\n",
    "    return [f'background-color: {color}' for color in color_list]\n",
    "\n",
    "# axis=1だと、列全体を見る (axis=0だと行全体を見る)\n",
    "df.style.apply(highlight_green_max, axis=1)"
   ]
  },
  {
   "cell_type": "code",
   "execution_count": 16,
   "metadata": {
    "ExecuteTime": {
     "end_time": "2019-09-15T21:37:40.133078Z",
     "start_time": "2019-09-15T21:37:40.100773Z"
    }
   },
   "outputs": [
    {
     "name": "stdout",
     "output_type": "stream",
     "text": [
      "['none', 'none', 'lightgreen']\n",
      "['none', 'none', 'lightgreen']\n",
      "['none', 'lightgreen', 'none']\n",
      "['lightgreen', 'none', 'none']\n"
     ]
    },
    {
     "data": {
      "text/html": [
       "<style  type=\"text/css\" >\n",
       "    #T_8da91006_d826_11e9_8cc2_94942601c652row0_col0 {\n",
       "            background-color:  none;\n",
       "        }    #T_8da91006_d826_11e9_8cc2_94942601c652row0_col1 {\n",
       "            background-color:  none;\n",
       "        }    #T_8da91006_d826_11e9_8cc2_94942601c652row0_col2 {\n",
       "            background-color:  lightgreen;\n",
       "        }    #T_8da91006_d826_11e9_8cc2_94942601c652row1_col0 {\n",
       "            background-color:  none;\n",
       "        }    #T_8da91006_d826_11e9_8cc2_94942601c652row1_col1 {\n",
       "            background-color:  none;\n",
       "        }    #T_8da91006_d826_11e9_8cc2_94942601c652row1_col2 {\n",
       "            background-color:  lightgreen;\n",
       "        }    #T_8da91006_d826_11e9_8cc2_94942601c652row2_col0 {\n",
       "            background-color:  none;\n",
       "        }    #T_8da91006_d826_11e9_8cc2_94942601c652row2_col1 {\n",
       "            background-color:  lightgreen;\n",
       "        }    #T_8da91006_d826_11e9_8cc2_94942601c652row2_col2 {\n",
       "            background-color:  none;\n",
       "        }    #T_8da91006_d826_11e9_8cc2_94942601c652row3_col0 {\n",
       "            background-color:  lightgreen;\n",
       "        }    #T_8da91006_d826_11e9_8cc2_94942601c652row3_col1 {\n",
       "            background-color:  none;\n",
       "        }    #T_8da91006_d826_11e9_8cc2_94942601c652row3_col2 {\n",
       "            background-color:  none;\n",
       "        }</style><table id=\"T_8da91006_d826_11e9_8cc2_94942601c652\" ><thead>    <tr>        <th class=\"blank level0\" ></th>        <th class=\"col_heading level0 col0\" >Araki</th>        <th class=\"col_heading level0 col1\" >Baba</th>        <th class=\"col_heading level0 col2\" >Chou</th>    </tr>    <tr>        <th class=\"index_name level0\" >index</th>        <th class=\"blank\" ></th>        <th class=\"blank\" ></th>        <th class=\"blank\" ></th>    </tr></thead><tbody>\n",
       "                <tr>\n",
       "                        <th id=\"T_8da91006_d826_11e9_8cc2_94942601c652level0_row0\" class=\"row_heading level0 row0\" >国語</th>\n",
       "                        <td id=\"T_8da91006_d826_11e9_8cc2_94942601c652row0_col0\" class=\"data row0 col0\" >75</td>\n",
       "                        <td id=\"T_8da91006_d826_11e9_8cc2_94942601c652row0_col1\" class=\"data row0 col1\" >80</td>\n",
       "                        <td id=\"T_8da91006_d826_11e9_8cc2_94942601c652row0_col2\" class=\"data row0 col2\" >95</td>\n",
       "            </tr>\n",
       "            <tr>\n",
       "                        <th id=\"T_8da91006_d826_11e9_8cc2_94942601c652level0_row1\" class=\"row_heading level0 row1\" >数学</th>\n",
       "                        <td id=\"T_8da91006_d826_11e9_8cc2_94942601c652row1_col0\" class=\"data row1 col0\" >55</td>\n",
       "                        <td id=\"T_8da91006_d826_11e9_8cc2_94942601c652row1_col1\" class=\"data row1 col1\" >nan</td>\n",
       "                        <td id=\"T_8da91006_d826_11e9_8cc2_94942601c652row1_col2\" class=\"data row1 col2\" >70</td>\n",
       "            </tr>\n",
       "            <tr>\n",
       "                        <th id=\"T_8da91006_d826_11e9_8cc2_94942601c652level0_row2\" class=\"row_heading level0 row2\" >理科</th>\n",
       "                        <td id=\"T_8da91006_d826_11e9_8cc2_94942601c652row2_col0\" class=\"data row2 col0\" >80</td>\n",
       "                        <td id=\"T_8da91006_d826_11e9_8cc2_94942601c652row2_col1\" class=\"data row2 col1\" >90</td>\n",
       "                        <td id=\"T_8da91006_d826_11e9_8cc2_94942601c652row2_col2\" class=\"data row2 col2\" >85</td>\n",
       "            </tr>\n",
       "            <tr>\n",
       "                        <th id=\"T_8da91006_d826_11e9_8cc2_94942601c652level0_row3\" class=\"row_heading level0 row3\" >社会</th>\n",
       "                        <td id=\"T_8da91006_d826_11e9_8cc2_94942601c652row3_col0\" class=\"data row3 col0\" >90</td>\n",
       "                        <td id=\"T_8da91006_d826_11e9_8cc2_94942601c652row3_col1\" class=\"data row3 col1\" >30</td>\n",
       "                        <td id=\"T_8da91006_d826_11e9_8cc2_94942601c652row3_col2\" class=\"data row3 col2\" >70</td>\n",
       "            </tr>\n",
       "    </tbody></table>"
      ],
      "text/plain": [
       "<pandas.io.formats.style.Styler at 0x114a61a58>"
      ]
     },
     "execution_count": 16,
     "metadata": {},
     "output_type": "execute_result"
    }
   ],
   "source": [
    "def highlight_green_max(series):\n",
    "    # 最大値だったらlightgreen, それ以外だったらnone(スタイルなし)にする\n",
    "    color_list = ['lightgreen' if val == series.max() else 'none'\n",
    "                  for val in series]\n",
    "    \n",
    "    # 中身の確認（解説用）\n",
    "    print(color_list)\n",
    "    \n",
    "    return [f'background-color: {color}' for color in color_list]\n",
    "\n",
    "# axis=1だと、列全体を見る (axis=0だと行全体を見る)\n",
    "df.style.apply(highlight_green_max, axis=1)"
   ]
  },
  {
   "cell_type": "code",
   "execution_count": 17,
   "metadata": {
    "ExecuteTime": {
     "end_time": "2019-09-15T21:18:05.246134Z",
     "start_time": "2019-09-15T21:18:05.193991Z"
    }
   },
   "outputs": [
    {
     "name": "stdout",
     "output_type": "stream",
     "text": [
      "['none', 'none', 'none', 'lightgreen']\n",
      "['none', 'none', 'lightgreen', 'none']\n",
      "['lightgreen', 'none', 'none', 'none']\n"
     ]
    },
    {
     "data": {
      "text/html": [
       "<style  type=\"text/css\" >\n",
       "    #T_8daee206_d826_11e9_b3b5_94942601c652row0_col0 {\n",
       "            background-color:  none;\n",
       "        }    #T_8daee206_d826_11e9_b3b5_94942601c652row0_col1 {\n",
       "            background-color:  none;\n",
       "        }    #T_8daee206_d826_11e9_b3b5_94942601c652row0_col2 {\n",
       "            background-color:  lightgreen;\n",
       "        }    #T_8daee206_d826_11e9_b3b5_94942601c652row1_col0 {\n",
       "            background-color:  none;\n",
       "        }    #T_8daee206_d826_11e9_b3b5_94942601c652row1_col1 {\n",
       "            background-color:  none;\n",
       "        }    #T_8daee206_d826_11e9_b3b5_94942601c652row1_col2 {\n",
       "            background-color:  none;\n",
       "        }    #T_8daee206_d826_11e9_b3b5_94942601c652row2_col0 {\n",
       "            background-color:  none;\n",
       "        }    #T_8daee206_d826_11e9_b3b5_94942601c652row2_col1 {\n",
       "            background-color:  lightgreen;\n",
       "        }    #T_8daee206_d826_11e9_b3b5_94942601c652row2_col2 {\n",
       "            background-color:  none;\n",
       "        }    #T_8daee206_d826_11e9_b3b5_94942601c652row3_col0 {\n",
       "            background-color:  lightgreen;\n",
       "        }    #T_8daee206_d826_11e9_b3b5_94942601c652row3_col1 {\n",
       "            background-color:  none;\n",
       "        }    #T_8daee206_d826_11e9_b3b5_94942601c652row3_col2 {\n",
       "            background-color:  none;\n",
       "        }</style><table id=\"T_8daee206_d826_11e9_b3b5_94942601c652\" ><thead>    <tr>        <th class=\"blank level0\" ></th>        <th class=\"col_heading level0 col0\" >Araki</th>        <th class=\"col_heading level0 col1\" >Baba</th>        <th class=\"col_heading level0 col2\" >Chou</th>    </tr>    <tr>        <th class=\"index_name level0\" >index</th>        <th class=\"blank\" ></th>        <th class=\"blank\" ></th>        <th class=\"blank\" ></th>    </tr></thead><tbody>\n",
       "                <tr>\n",
       "                        <th id=\"T_8daee206_d826_11e9_b3b5_94942601c652level0_row0\" class=\"row_heading level0 row0\" >国語</th>\n",
       "                        <td id=\"T_8daee206_d826_11e9_b3b5_94942601c652row0_col0\" class=\"data row0 col0\" >75</td>\n",
       "                        <td id=\"T_8daee206_d826_11e9_b3b5_94942601c652row0_col1\" class=\"data row0 col1\" >80</td>\n",
       "                        <td id=\"T_8daee206_d826_11e9_b3b5_94942601c652row0_col2\" class=\"data row0 col2\" >95</td>\n",
       "            </tr>\n",
       "            <tr>\n",
       "                        <th id=\"T_8daee206_d826_11e9_b3b5_94942601c652level0_row1\" class=\"row_heading level0 row1\" >数学</th>\n",
       "                        <td id=\"T_8daee206_d826_11e9_b3b5_94942601c652row1_col0\" class=\"data row1 col0\" >55</td>\n",
       "                        <td id=\"T_8daee206_d826_11e9_b3b5_94942601c652row1_col1\" class=\"data row1 col1\" >nan</td>\n",
       "                        <td id=\"T_8daee206_d826_11e9_b3b5_94942601c652row1_col2\" class=\"data row1 col2\" >70</td>\n",
       "            </tr>\n",
       "            <tr>\n",
       "                        <th id=\"T_8daee206_d826_11e9_b3b5_94942601c652level0_row2\" class=\"row_heading level0 row2\" >理科</th>\n",
       "                        <td id=\"T_8daee206_d826_11e9_b3b5_94942601c652row2_col0\" class=\"data row2 col0\" >80</td>\n",
       "                        <td id=\"T_8daee206_d826_11e9_b3b5_94942601c652row2_col1\" class=\"data row2 col1\" >90</td>\n",
       "                        <td id=\"T_8daee206_d826_11e9_b3b5_94942601c652row2_col2\" class=\"data row2 col2\" >85</td>\n",
       "            </tr>\n",
       "            <tr>\n",
       "                        <th id=\"T_8daee206_d826_11e9_b3b5_94942601c652level0_row3\" class=\"row_heading level0 row3\" >社会</th>\n",
       "                        <td id=\"T_8daee206_d826_11e9_b3b5_94942601c652row3_col0\" class=\"data row3 col0\" >90</td>\n",
       "                        <td id=\"T_8daee206_d826_11e9_b3b5_94942601c652row3_col1\" class=\"data row3 col1\" >30</td>\n",
       "                        <td id=\"T_8daee206_d826_11e9_b3b5_94942601c652row3_col2\" class=\"data row3 col2\" >70</td>\n",
       "            </tr>\n",
       "    </tbody></table>"
      ],
      "text/plain": [
       "<pandas.io.formats.style.Styler at 0x114ac3358>"
      ]
     },
     "execution_count": 17,
     "metadata": {},
     "output_type": "execute_result"
    }
   ],
   "source": [
    "# 各生徒において一番成績がよかった教科はどれ？\n",
    "df.style.apply(highlight_green_max, axis=0) # axis=0だと、列全体を見る"
   ]
  },
  {
   "cell_type": "code",
   "execution_count": 18,
   "metadata": {
    "ExecuteTime": {
     "end_time": "2019-09-15T21:37:42.989397Z",
     "start_time": "2019-09-15T21:37:42.957583Z"
    }
   },
   "outputs": [
    {
     "name": "stdout",
     "output_type": "stream",
     "text": [
      "['none', 'none', 'lightgreen']\n",
      "['none', 'none', 'lightgreen']\n",
      "['none', 'lightgreen', 'none']\n",
      "['lightgreen', 'none', 'none']\n"
     ]
    },
    {
     "data": {
      "text/html": [
       "<style  type=\"text/css\" >\n",
       "    #T_8db4eb06_d826_11e9_b1bc_94942601c652row0_col0 {\n",
       "            background-color:  none;\n",
       "        }    #T_8db4eb06_d826_11e9_b1bc_94942601c652row0_col1 {\n",
       "            background-color:  none;\n",
       "        }    #T_8db4eb06_d826_11e9_b1bc_94942601c652row0_col2 {\n",
       "            background-color:  lightgreen;\n",
       "        }    #T_8db4eb06_d826_11e9_b1bc_94942601c652row1_col0 {\n",
       "            background-color:  none;\n",
       "        }    #T_8db4eb06_d826_11e9_b1bc_94942601c652row1_col1 {\n",
       "            background-color:  none;\n",
       "        }    #T_8db4eb06_d826_11e9_b1bc_94942601c652row1_col2 {\n",
       "            background-color:  lightgreen;\n",
       "        }    #T_8db4eb06_d826_11e9_b1bc_94942601c652row2_col0 {\n",
       "            background-color:  none;\n",
       "        }    #T_8db4eb06_d826_11e9_b1bc_94942601c652row2_col1 {\n",
       "            background-color:  lightgreen;\n",
       "        }    #T_8db4eb06_d826_11e9_b1bc_94942601c652row2_col2 {\n",
       "            background-color:  none;\n",
       "        }    #T_8db4eb06_d826_11e9_b1bc_94942601c652row3_col0 {\n",
       "            background-color:  lightgreen;\n",
       "        }    #T_8db4eb06_d826_11e9_b1bc_94942601c652row3_col1 {\n",
       "            background-color:  none;\n",
       "        }    #T_8db4eb06_d826_11e9_b1bc_94942601c652row3_col2 {\n",
       "            background-color:  none;\n",
       "        }</style><table id=\"T_8db4eb06_d826_11e9_b1bc_94942601c652\" ><thead>    <tr>        <th class=\"blank level0\" ></th>        <th class=\"col_heading level0 col0\" >Araki</th>        <th class=\"col_heading level0 col1\" >Baba</th>        <th class=\"col_heading level0 col2\" >Chou</th>    </tr>    <tr>        <th class=\"index_name level0\" >index</th>        <th class=\"blank\" ></th>        <th class=\"blank\" ></th>        <th class=\"blank\" ></th>    </tr></thead><tbody>\n",
       "                <tr>\n",
       "                        <th id=\"T_8db4eb06_d826_11e9_b1bc_94942601c652level0_row0\" class=\"row_heading level0 row0\" >国語</th>\n",
       "                        <td id=\"T_8db4eb06_d826_11e9_b1bc_94942601c652row0_col0\" class=\"data row0 col0\" >75</td>\n",
       "                        <td id=\"T_8db4eb06_d826_11e9_b1bc_94942601c652row0_col1\" class=\"data row0 col1\" >80</td>\n",
       "                        <td id=\"T_8db4eb06_d826_11e9_b1bc_94942601c652row0_col2\" class=\"data row0 col2\" >95</td>\n",
       "            </tr>\n",
       "            <tr>\n",
       "                        <th id=\"T_8db4eb06_d826_11e9_b1bc_94942601c652level0_row1\" class=\"row_heading level0 row1\" >数学</th>\n",
       "                        <td id=\"T_8db4eb06_d826_11e9_b1bc_94942601c652row1_col0\" class=\"data row1 col0\" >55</td>\n",
       "                        <td id=\"T_8db4eb06_d826_11e9_b1bc_94942601c652row1_col1\" class=\"data row1 col1\" >nan</td>\n",
       "                        <td id=\"T_8db4eb06_d826_11e9_b1bc_94942601c652row1_col2\" class=\"data row1 col2\" >70</td>\n",
       "            </tr>\n",
       "            <tr>\n",
       "                        <th id=\"T_8db4eb06_d826_11e9_b1bc_94942601c652level0_row2\" class=\"row_heading level0 row2\" >理科</th>\n",
       "                        <td id=\"T_8db4eb06_d826_11e9_b1bc_94942601c652row2_col0\" class=\"data row2 col0\" >80</td>\n",
       "                        <td id=\"T_8db4eb06_d826_11e9_b1bc_94942601c652row2_col1\" class=\"data row2 col1\" >90</td>\n",
       "                        <td id=\"T_8db4eb06_d826_11e9_b1bc_94942601c652row2_col2\" class=\"data row2 col2\" >85</td>\n",
       "            </tr>\n",
       "            <tr>\n",
       "                        <th id=\"T_8db4eb06_d826_11e9_b1bc_94942601c652level0_row3\" class=\"row_heading level0 row3\" >社会</th>\n",
       "                        <td id=\"T_8db4eb06_d826_11e9_b1bc_94942601c652row3_col0\" class=\"data row3 col0\" >90</td>\n",
       "                        <td id=\"T_8db4eb06_d826_11e9_b1bc_94942601c652row3_col1\" class=\"data row3 col1\" >30</td>\n",
       "                        <td id=\"T_8db4eb06_d826_11e9_b1bc_94942601c652row3_col2\" class=\"data row3 col2\" >70</td>\n",
       "            </tr>\n",
       "    </tbody></table>"
      ],
      "text/plain": [
       "<pandas.io.formats.style.Styler at 0x114a612e8>"
      ]
     },
     "execution_count": 18,
     "metadata": {},
     "output_type": "execute_result"
    }
   ],
   "source": [
    "# axis=1だと、列全体を見る\n",
    "df.style.apply(highlight_green_max, axis=1)"
   ]
  },
  {
   "cell_type": "markdown",
   "metadata": {
    "ExecuteTime": {
     "end_time": "2019-09-15T21:41:53.898233Z",
     "start_time": "2019-09-15T21:41:53.857669Z"
    }
   },
   "source": [
    "テーブル全体を見る場合は、`axis=None`にする。"
   ]
  },
  {
   "cell_type": "markdown",
   "metadata": {},
   "source": [
    "# `applymap`と`apply`のまとめ\n",
    "<img src=\"../img/applymap_apply.png\">"
   ]
  },
  {
   "cell_type": "markdown",
   "metadata": {},
   "source": [
    "## Quiz\n",
    "- 以下の場合、applymapとapplyのどちらを使えばよいか考えてみよう\n",
    "    - 値がnullだったら文字色を灰色にする\n",
    "    - その人が一番点数が低い教科の背景色を変える"
   ]
  },
  {
   "cell_type": "markdown",
   "metadata": {},
   "source": [
    "# ビルトインのスタイル関数\n",
    "## よく使うやつは、あらかじめ準備されている"
   ]
  },
  {
   "cell_type": "markdown",
   "metadata": {},
   "source": [
    "### highlight_max, highlight_min"
   ]
  },
  {
   "cell_type": "code",
   "execution_count": 19,
   "metadata": {
    "ExecuteTime": {
     "end_time": "2019-09-15T22:04:02.134731Z",
     "start_time": "2019-09-15T22:04:01.894224Z"
    }
   },
   "outputs": [
    {
     "data": {
      "text/html": [
       "<style  type=\"text/css\" >\n",
       "    #T_8dbe7734_d826_11e9_862b_94942601c652row0_col2 {\n",
       "            background-color:  yellow;\n",
       "        }    #T_8dbe7734_d826_11e9_862b_94942601c652row2_col1 {\n",
       "            background-color:  yellow;\n",
       "        }    #T_8dbe7734_d826_11e9_862b_94942601c652row3_col0 {\n",
       "            background-color:  yellow;\n",
       "        }</style><table id=\"T_8dbe7734_d826_11e9_862b_94942601c652\" ><thead>    <tr>        <th class=\"blank level0\" ></th>        <th class=\"col_heading level0 col0\" >Araki</th>        <th class=\"col_heading level0 col1\" >Baba</th>        <th class=\"col_heading level0 col2\" >Chou</th>    </tr>    <tr>        <th class=\"index_name level0\" >index</th>        <th class=\"blank\" ></th>        <th class=\"blank\" ></th>        <th class=\"blank\" ></th>    </tr></thead><tbody>\n",
       "                <tr>\n",
       "                        <th id=\"T_8dbe7734_d826_11e9_862b_94942601c652level0_row0\" class=\"row_heading level0 row0\" >国語</th>\n",
       "                        <td id=\"T_8dbe7734_d826_11e9_862b_94942601c652row0_col0\" class=\"data row0 col0\" >75</td>\n",
       "                        <td id=\"T_8dbe7734_d826_11e9_862b_94942601c652row0_col1\" class=\"data row0 col1\" >80</td>\n",
       "                        <td id=\"T_8dbe7734_d826_11e9_862b_94942601c652row0_col2\" class=\"data row0 col2\" >95</td>\n",
       "            </tr>\n",
       "            <tr>\n",
       "                        <th id=\"T_8dbe7734_d826_11e9_862b_94942601c652level0_row1\" class=\"row_heading level0 row1\" >数学</th>\n",
       "                        <td id=\"T_8dbe7734_d826_11e9_862b_94942601c652row1_col0\" class=\"data row1 col0\" >55</td>\n",
       "                        <td id=\"T_8dbe7734_d826_11e9_862b_94942601c652row1_col1\" class=\"data row1 col1\" >nan</td>\n",
       "                        <td id=\"T_8dbe7734_d826_11e9_862b_94942601c652row1_col2\" class=\"data row1 col2\" >70</td>\n",
       "            </tr>\n",
       "            <tr>\n",
       "                        <th id=\"T_8dbe7734_d826_11e9_862b_94942601c652level0_row2\" class=\"row_heading level0 row2\" >理科</th>\n",
       "                        <td id=\"T_8dbe7734_d826_11e9_862b_94942601c652row2_col0\" class=\"data row2 col0\" >80</td>\n",
       "                        <td id=\"T_8dbe7734_d826_11e9_862b_94942601c652row2_col1\" class=\"data row2 col1\" >90</td>\n",
       "                        <td id=\"T_8dbe7734_d826_11e9_862b_94942601c652row2_col2\" class=\"data row2 col2\" >85</td>\n",
       "            </tr>\n",
       "            <tr>\n",
       "                        <th id=\"T_8dbe7734_d826_11e9_862b_94942601c652level0_row3\" class=\"row_heading level0 row3\" >社会</th>\n",
       "                        <td id=\"T_8dbe7734_d826_11e9_862b_94942601c652row3_col0\" class=\"data row3 col0\" >90</td>\n",
       "                        <td id=\"T_8dbe7734_d826_11e9_862b_94942601c652row3_col1\" class=\"data row3 col1\" >30</td>\n",
       "                        <td id=\"T_8dbe7734_d826_11e9_862b_94942601c652row3_col2\" class=\"data row3 col2\" >70</td>\n",
       "            </tr>\n",
       "    </tbody></table>"
      ],
      "text/plain": [
       "<pandas.io.formats.style.Styler at 0x111641240>"
      ]
     },
     "execution_count": 19,
     "metadata": {},
     "output_type": "execute_result"
    }
   ],
   "source": [
    "df.style.highlight_max()"
   ]
  },
  {
   "cell_type": "code",
   "execution_count": 20,
   "metadata": {
    "ExecuteTime": {
     "end_time": "2019-09-15T22:04:13.957232Z",
     "start_time": "2019-09-15T22:04:13.916944Z"
    }
   },
   "outputs": [
    {
     "data": {
      "text/html": [
       "<style  type=\"text/css\" >\n",
       "    #T_8dc4acf8_d826_11e9_889f_94942601c652row1_col0 {\n",
       "            background-color:  yellow;\n",
       "        }    #T_8dc4acf8_d826_11e9_889f_94942601c652row1_col2 {\n",
       "            background-color:  yellow;\n",
       "        }    #T_8dc4acf8_d826_11e9_889f_94942601c652row3_col1 {\n",
       "            background-color:  yellow;\n",
       "        }    #T_8dc4acf8_d826_11e9_889f_94942601c652row3_col2 {\n",
       "            background-color:  yellow;\n",
       "        }</style><table id=\"T_8dc4acf8_d826_11e9_889f_94942601c652\" ><thead>    <tr>        <th class=\"blank level0\" ></th>        <th class=\"col_heading level0 col0\" >Araki</th>        <th class=\"col_heading level0 col1\" >Baba</th>        <th class=\"col_heading level0 col2\" >Chou</th>    </tr>    <tr>        <th class=\"index_name level0\" >index</th>        <th class=\"blank\" ></th>        <th class=\"blank\" ></th>        <th class=\"blank\" ></th>    </tr></thead><tbody>\n",
       "                <tr>\n",
       "                        <th id=\"T_8dc4acf8_d826_11e9_889f_94942601c652level0_row0\" class=\"row_heading level0 row0\" >国語</th>\n",
       "                        <td id=\"T_8dc4acf8_d826_11e9_889f_94942601c652row0_col0\" class=\"data row0 col0\" >75</td>\n",
       "                        <td id=\"T_8dc4acf8_d826_11e9_889f_94942601c652row0_col1\" class=\"data row0 col1\" >80</td>\n",
       "                        <td id=\"T_8dc4acf8_d826_11e9_889f_94942601c652row0_col2\" class=\"data row0 col2\" >95</td>\n",
       "            </tr>\n",
       "            <tr>\n",
       "                        <th id=\"T_8dc4acf8_d826_11e9_889f_94942601c652level0_row1\" class=\"row_heading level0 row1\" >数学</th>\n",
       "                        <td id=\"T_8dc4acf8_d826_11e9_889f_94942601c652row1_col0\" class=\"data row1 col0\" >55</td>\n",
       "                        <td id=\"T_8dc4acf8_d826_11e9_889f_94942601c652row1_col1\" class=\"data row1 col1\" >nan</td>\n",
       "                        <td id=\"T_8dc4acf8_d826_11e9_889f_94942601c652row1_col2\" class=\"data row1 col2\" >70</td>\n",
       "            </tr>\n",
       "            <tr>\n",
       "                        <th id=\"T_8dc4acf8_d826_11e9_889f_94942601c652level0_row2\" class=\"row_heading level0 row2\" >理科</th>\n",
       "                        <td id=\"T_8dc4acf8_d826_11e9_889f_94942601c652row2_col0\" class=\"data row2 col0\" >80</td>\n",
       "                        <td id=\"T_8dc4acf8_d826_11e9_889f_94942601c652row2_col1\" class=\"data row2 col1\" >90</td>\n",
       "                        <td id=\"T_8dc4acf8_d826_11e9_889f_94942601c652row2_col2\" class=\"data row2 col2\" >85</td>\n",
       "            </tr>\n",
       "            <tr>\n",
       "                        <th id=\"T_8dc4acf8_d826_11e9_889f_94942601c652level0_row3\" class=\"row_heading level0 row3\" >社会</th>\n",
       "                        <td id=\"T_8dc4acf8_d826_11e9_889f_94942601c652row3_col0\" class=\"data row3 col0\" >90</td>\n",
       "                        <td id=\"T_8dc4acf8_d826_11e9_889f_94942601c652row3_col1\" class=\"data row3 col1\" >30</td>\n",
       "                        <td id=\"T_8dc4acf8_d826_11e9_889f_94942601c652row3_col2\" class=\"data row3 col2\" >70</td>\n",
       "            </tr>\n",
       "    </tbody></table>"
      ],
      "text/plain": [
       "<pandas.io.formats.style.Styler at 0x114ac3470>"
      ]
     },
     "execution_count": 20,
     "metadata": {},
     "output_type": "execute_result"
    }
   ],
   "source": [
    "df.style.highlight_min()"
   ]
  },
  {
   "cell_type": "markdown",
   "metadata": {},
   "source": [
    "### highlight_null"
   ]
  },
  {
   "cell_type": "code",
   "execution_count": 21,
   "metadata": {
    "ExecuteTime": {
     "end_time": "2019-09-15T22:35:02.937493Z",
     "start_time": "2019-09-15T22:35:02.851168Z"
    }
   },
   "outputs": [],
   "source": [
    "sample_df = pd.read_csv('../data/styling_sample_02.csv')"
   ]
  },
  {
   "cell_type": "code",
   "execution_count": 22,
   "metadata": {
    "ExecuteTime": {
     "end_time": "2019-09-15T22:35:03.757575Z",
     "start_time": "2019-09-15T22:35:03.665882Z"
    }
   },
   "outputs": [
    {
     "data": {
      "text/html": [
       "<div>\n",
       "<style scoped>\n",
       "    .dataframe tbody tr th:only-of-type {\n",
       "        vertical-align: middle;\n",
       "    }\n",
       "\n",
       "    .dataframe tbody tr th {\n",
       "        vertical-align: top;\n",
       "    }\n",
       "\n",
       "    .dataframe thead th {\n",
       "        text-align: right;\n",
       "    }\n",
       "</style>\n",
       "<table border=\"1\" class=\"dataframe\">\n",
       "  <thead>\n",
       "    <tr style=\"text-align: right;\">\n",
       "      <th></th>\n",
       "      <th>A</th>\n",
       "      <th>B</th>\n",
       "    </tr>\n",
       "  </thead>\n",
       "  <tbody>\n",
       "    <tr>\n",
       "      <td>0</td>\n",
       "      <td>0.0</td>\n",
       "      <td>NaN</td>\n",
       "    </tr>\n",
       "    <tr>\n",
       "      <td>1</td>\n",
       "      <td>10.0</td>\n",
       "      <td>80.0</td>\n",
       "    </tr>\n",
       "    <tr>\n",
       "      <td>2</td>\n",
       "      <td>20.0</td>\n",
       "      <td>60.0</td>\n",
       "    </tr>\n",
       "    <tr>\n",
       "      <td>3</td>\n",
       "      <td>30.0</td>\n",
       "      <td>40.0</td>\n",
       "    </tr>\n",
       "    <tr>\n",
       "      <td>4</td>\n",
       "      <td>40.0</td>\n",
       "      <td>20.0</td>\n",
       "    </tr>\n",
       "    <tr>\n",
       "      <td>5</td>\n",
       "      <td>NaN</td>\n",
       "      <td>0.0</td>\n",
       "    </tr>\n",
       "    <tr>\n",
       "      <td>6</td>\n",
       "      <td>60.0</td>\n",
       "      <td>-20.0</td>\n",
       "    </tr>\n",
       "    <tr>\n",
       "      <td>7</td>\n",
       "      <td>70.0</td>\n",
       "      <td>-40.0</td>\n",
       "    </tr>\n",
       "    <tr>\n",
       "      <td>8</td>\n",
       "      <td>80.0</td>\n",
       "      <td>-60.0</td>\n",
       "    </tr>\n",
       "    <tr>\n",
       "      <td>9</td>\n",
       "      <td>100.0</td>\n",
       "      <td>-80.0</td>\n",
       "    </tr>\n",
       "  </tbody>\n",
       "</table>\n",
       "</div>"
      ],
      "text/plain": [
       "       A     B\n",
       "0    0.0   NaN\n",
       "1   10.0  80.0\n",
       "2   20.0  60.0\n",
       "3   30.0  40.0\n",
       "4   40.0  20.0\n",
       "5    NaN   0.0\n",
       "6   60.0 -20.0\n",
       "7   70.0 -40.0\n",
       "8   80.0 -60.0\n",
       "9  100.0 -80.0"
      ]
     },
     "execution_count": 22,
     "metadata": {},
     "output_type": "execute_result"
    }
   ],
   "source": [
    "sample_df"
   ]
  },
  {
   "cell_type": "code",
   "execution_count": 23,
   "metadata": {
    "ExecuteTime": {
     "end_time": "2019-09-15T22:35:07.333109Z",
     "start_time": "2019-09-15T22:35:07.173640Z"
    }
   },
   "outputs": [
    {
     "data": {
      "text/html": [
       "<style  type=\"text/css\" >\n",
       "    #T_8dd25ef4_d826_11e9_b6f6_94942601c652row0_col1 {\n",
       "            background-color:  red;\n",
       "        }    #T_8dd25ef4_d826_11e9_b6f6_94942601c652row5_col0 {\n",
       "            background-color:  red;\n",
       "        }</style><table id=\"T_8dd25ef4_d826_11e9_b6f6_94942601c652\" ><thead>    <tr>        <th class=\"blank level0\" ></th>        <th class=\"col_heading level0 col0\" >A</th>        <th class=\"col_heading level0 col1\" >B</th>    </tr></thead><tbody>\n",
       "                <tr>\n",
       "                        <th id=\"T_8dd25ef4_d826_11e9_b6f6_94942601c652level0_row0\" class=\"row_heading level0 row0\" >0</th>\n",
       "                        <td id=\"T_8dd25ef4_d826_11e9_b6f6_94942601c652row0_col0\" class=\"data row0 col0\" >0</td>\n",
       "                        <td id=\"T_8dd25ef4_d826_11e9_b6f6_94942601c652row0_col1\" class=\"data row0 col1\" >nan</td>\n",
       "            </tr>\n",
       "            <tr>\n",
       "                        <th id=\"T_8dd25ef4_d826_11e9_b6f6_94942601c652level0_row1\" class=\"row_heading level0 row1\" >1</th>\n",
       "                        <td id=\"T_8dd25ef4_d826_11e9_b6f6_94942601c652row1_col0\" class=\"data row1 col0\" >10</td>\n",
       "                        <td id=\"T_8dd25ef4_d826_11e9_b6f6_94942601c652row1_col1\" class=\"data row1 col1\" >80</td>\n",
       "            </tr>\n",
       "            <tr>\n",
       "                        <th id=\"T_8dd25ef4_d826_11e9_b6f6_94942601c652level0_row2\" class=\"row_heading level0 row2\" >2</th>\n",
       "                        <td id=\"T_8dd25ef4_d826_11e9_b6f6_94942601c652row2_col0\" class=\"data row2 col0\" >20</td>\n",
       "                        <td id=\"T_8dd25ef4_d826_11e9_b6f6_94942601c652row2_col1\" class=\"data row2 col1\" >60</td>\n",
       "            </tr>\n",
       "            <tr>\n",
       "                        <th id=\"T_8dd25ef4_d826_11e9_b6f6_94942601c652level0_row3\" class=\"row_heading level0 row3\" >3</th>\n",
       "                        <td id=\"T_8dd25ef4_d826_11e9_b6f6_94942601c652row3_col0\" class=\"data row3 col0\" >30</td>\n",
       "                        <td id=\"T_8dd25ef4_d826_11e9_b6f6_94942601c652row3_col1\" class=\"data row3 col1\" >40</td>\n",
       "            </tr>\n",
       "            <tr>\n",
       "                        <th id=\"T_8dd25ef4_d826_11e9_b6f6_94942601c652level0_row4\" class=\"row_heading level0 row4\" >4</th>\n",
       "                        <td id=\"T_8dd25ef4_d826_11e9_b6f6_94942601c652row4_col0\" class=\"data row4 col0\" >40</td>\n",
       "                        <td id=\"T_8dd25ef4_d826_11e9_b6f6_94942601c652row4_col1\" class=\"data row4 col1\" >20</td>\n",
       "            </tr>\n",
       "            <tr>\n",
       "                        <th id=\"T_8dd25ef4_d826_11e9_b6f6_94942601c652level0_row5\" class=\"row_heading level0 row5\" >5</th>\n",
       "                        <td id=\"T_8dd25ef4_d826_11e9_b6f6_94942601c652row5_col0\" class=\"data row5 col0\" >nan</td>\n",
       "                        <td id=\"T_8dd25ef4_d826_11e9_b6f6_94942601c652row5_col1\" class=\"data row5 col1\" >0</td>\n",
       "            </tr>\n",
       "            <tr>\n",
       "                        <th id=\"T_8dd25ef4_d826_11e9_b6f6_94942601c652level0_row6\" class=\"row_heading level0 row6\" >6</th>\n",
       "                        <td id=\"T_8dd25ef4_d826_11e9_b6f6_94942601c652row6_col0\" class=\"data row6 col0\" >60</td>\n",
       "                        <td id=\"T_8dd25ef4_d826_11e9_b6f6_94942601c652row6_col1\" class=\"data row6 col1\" >-20</td>\n",
       "            </tr>\n",
       "            <tr>\n",
       "                        <th id=\"T_8dd25ef4_d826_11e9_b6f6_94942601c652level0_row7\" class=\"row_heading level0 row7\" >7</th>\n",
       "                        <td id=\"T_8dd25ef4_d826_11e9_b6f6_94942601c652row7_col0\" class=\"data row7 col0\" >70</td>\n",
       "                        <td id=\"T_8dd25ef4_d826_11e9_b6f6_94942601c652row7_col1\" class=\"data row7 col1\" >-40</td>\n",
       "            </tr>\n",
       "            <tr>\n",
       "                        <th id=\"T_8dd25ef4_d826_11e9_b6f6_94942601c652level0_row8\" class=\"row_heading level0 row8\" >8</th>\n",
       "                        <td id=\"T_8dd25ef4_d826_11e9_b6f6_94942601c652row8_col0\" class=\"data row8 col0\" >80</td>\n",
       "                        <td id=\"T_8dd25ef4_d826_11e9_b6f6_94942601c652row8_col1\" class=\"data row8 col1\" >-60</td>\n",
       "            </tr>\n",
       "            <tr>\n",
       "                        <th id=\"T_8dd25ef4_d826_11e9_b6f6_94942601c652level0_row9\" class=\"row_heading level0 row9\" >9</th>\n",
       "                        <td id=\"T_8dd25ef4_d826_11e9_b6f6_94942601c652row9_col0\" class=\"data row9 col0\" >100</td>\n",
       "                        <td id=\"T_8dd25ef4_d826_11e9_b6f6_94942601c652row9_col1\" class=\"data row9 col1\" >-80</td>\n",
       "            </tr>\n",
       "    </tbody></table>"
      ],
      "text/plain": [
       "<pandas.io.formats.style.Styler at 0x114ac30f0>"
      ]
     },
     "execution_count": 23,
     "metadata": {},
     "output_type": "execute_result"
    }
   ],
   "source": [
    "sample_df.style.highlight_null()"
   ]
  },
  {
   "cell_type": "markdown",
   "metadata": {},
   "source": [
    "### bar"
   ]
  },
  {
   "cell_type": "code",
   "execution_count": 24,
   "metadata": {
    "ExecuteTime": {
     "end_time": "2019-09-15T22:35:24.119212Z",
     "start_time": "2019-09-15T22:35:24.073159Z"
    }
   },
   "outputs": [
    {
     "data": {
      "text/html": [
       "<style  type=\"text/css\" >\n",
       "    #T_8ddcb2a8_d826_11e9_89ab_94942601c652row0_col0 {\n",
       "            width:  10em;\n",
       "             height:  80%;\n",
       "        }    #T_8ddcb2a8_d826_11e9_89ab_94942601c652row1_col0 {\n",
       "            width:  10em;\n",
       "             height:  80%;\n",
       "            background:  linear-gradient(90deg,#d65f5f 10.0%, transparent 10.0%);\n",
       "        }    #T_8ddcb2a8_d826_11e9_89ab_94942601c652row1_col1 {\n",
       "            width:  10em;\n",
       "             height:  80%;\n",
       "            background:  linear-gradient(90deg,#d65f5f 100.0%, transparent 100.0%);\n",
       "        }    #T_8ddcb2a8_d826_11e9_89ab_94942601c652row2_col0 {\n",
       "            width:  10em;\n",
       "             height:  80%;\n",
       "            background:  linear-gradient(90deg,#d65f5f 20.0%, transparent 20.0%);\n",
       "        }    #T_8ddcb2a8_d826_11e9_89ab_94942601c652row2_col1 {\n",
       "            width:  10em;\n",
       "             height:  80%;\n",
       "            background:  linear-gradient(90deg,#d65f5f 87.5%, transparent 87.5%);\n",
       "        }    #T_8ddcb2a8_d826_11e9_89ab_94942601c652row3_col0 {\n",
       "            width:  10em;\n",
       "             height:  80%;\n",
       "            background:  linear-gradient(90deg,#d65f5f 30.0%, transparent 30.0%);\n",
       "        }    #T_8ddcb2a8_d826_11e9_89ab_94942601c652row3_col1 {\n",
       "            width:  10em;\n",
       "             height:  80%;\n",
       "            background:  linear-gradient(90deg,#d65f5f 75.0%, transparent 75.0%);\n",
       "        }    #T_8ddcb2a8_d826_11e9_89ab_94942601c652row4_col0 {\n",
       "            width:  10em;\n",
       "             height:  80%;\n",
       "            background:  linear-gradient(90deg,#d65f5f 40.0%, transparent 40.0%);\n",
       "        }    #T_8ddcb2a8_d826_11e9_89ab_94942601c652row4_col1 {\n",
       "            width:  10em;\n",
       "             height:  80%;\n",
       "            background:  linear-gradient(90deg,#d65f5f 62.5%, transparent 62.5%);\n",
       "        }    #T_8ddcb2a8_d826_11e9_89ab_94942601c652row5_col1 {\n",
       "            width:  10em;\n",
       "             height:  80%;\n",
       "            background:  linear-gradient(90deg,#d65f5f 50.0%, transparent 50.0%);\n",
       "        }    #T_8ddcb2a8_d826_11e9_89ab_94942601c652row6_col0 {\n",
       "            width:  10em;\n",
       "             height:  80%;\n",
       "            background:  linear-gradient(90deg,#d65f5f 60.0%, transparent 60.0%);\n",
       "        }    #T_8ddcb2a8_d826_11e9_89ab_94942601c652row6_col1 {\n",
       "            width:  10em;\n",
       "             height:  80%;\n",
       "            background:  linear-gradient(90deg,#d65f5f 37.5%, transparent 37.5%);\n",
       "        }    #T_8ddcb2a8_d826_11e9_89ab_94942601c652row7_col0 {\n",
       "            width:  10em;\n",
       "             height:  80%;\n",
       "            background:  linear-gradient(90deg,#d65f5f 70.0%, transparent 70.0%);\n",
       "        }    #T_8ddcb2a8_d826_11e9_89ab_94942601c652row7_col1 {\n",
       "            width:  10em;\n",
       "             height:  80%;\n",
       "            background:  linear-gradient(90deg,#d65f5f 25.0%, transparent 25.0%);\n",
       "        }    #T_8ddcb2a8_d826_11e9_89ab_94942601c652row8_col0 {\n",
       "            width:  10em;\n",
       "             height:  80%;\n",
       "            background:  linear-gradient(90deg,#d65f5f 80.0%, transparent 80.0%);\n",
       "        }    #T_8ddcb2a8_d826_11e9_89ab_94942601c652row8_col1 {\n",
       "            width:  10em;\n",
       "             height:  80%;\n",
       "            background:  linear-gradient(90deg,#d65f5f 12.5%, transparent 12.5%);\n",
       "        }    #T_8ddcb2a8_d826_11e9_89ab_94942601c652row9_col0 {\n",
       "            width:  10em;\n",
       "             height:  80%;\n",
       "            background:  linear-gradient(90deg,#d65f5f 100.0%, transparent 100.0%);\n",
       "        }    #T_8ddcb2a8_d826_11e9_89ab_94942601c652row9_col1 {\n",
       "            width:  10em;\n",
       "             height:  80%;\n",
       "        }</style><table id=\"T_8ddcb2a8_d826_11e9_89ab_94942601c652\" ><thead>    <tr>        <th class=\"blank level0\" ></th>        <th class=\"col_heading level0 col0\" >A</th>        <th class=\"col_heading level0 col1\" >B</th>    </tr></thead><tbody>\n",
       "                <tr>\n",
       "                        <th id=\"T_8ddcb2a8_d826_11e9_89ab_94942601c652level0_row0\" class=\"row_heading level0 row0\" >0</th>\n",
       "                        <td id=\"T_8ddcb2a8_d826_11e9_89ab_94942601c652row0_col0\" class=\"data row0 col0\" >0</td>\n",
       "                        <td id=\"T_8ddcb2a8_d826_11e9_89ab_94942601c652row0_col1\" class=\"data row0 col1\" >nan</td>\n",
       "            </tr>\n",
       "            <tr>\n",
       "                        <th id=\"T_8ddcb2a8_d826_11e9_89ab_94942601c652level0_row1\" class=\"row_heading level0 row1\" >1</th>\n",
       "                        <td id=\"T_8ddcb2a8_d826_11e9_89ab_94942601c652row1_col0\" class=\"data row1 col0\" >10</td>\n",
       "                        <td id=\"T_8ddcb2a8_d826_11e9_89ab_94942601c652row1_col1\" class=\"data row1 col1\" >80</td>\n",
       "            </tr>\n",
       "            <tr>\n",
       "                        <th id=\"T_8ddcb2a8_d826_11e9_89ab_94942601c652level0_row2\" class=\"row_heading level0 row2\" >2</th>\n",
       "                        <td id=\"T_8ddcb2a8_d826_11e9_89ab_94942601c652row2_col0\" class=\"data row2 col0\" >20</td>\n",
       "                        <td id=\"T_8ddcb2a8_d826_11e9_89ab_94942601c652row2_col1\" class=\"data row2 col1\" >60</td>\n",
       "            </tr>\n",
       "            <tr>\n",
       "                        <th id=\"T_8ddcb2a8_d826_11e9_89ab_94942601c652level0_row3\" class=\"row_heading level0 row3\" >3</th>\n",
       "                        <td id=\"T_8ddcb2a8_d826_11e9_89ab_94942601c652row3_col0\" class=\"data row3 col0\" >30</td>\n",
       "                        <td id=\"T_8ddcb2a8_d826_11e9_89ab_94942601c652row3_col1\" class=\"data row3 col1\" >40</td>\n",
       "            </tr>\n",
       "            <tr>\n",
       "                        <th id=\"T_8ddcb2a8_d826_11e9_89ab_94942601c652level0_row4\" class=\"row_heading level0 row4\" >4</th>\n",
       "                        <td id=\"T_8ddcb2a8_d826_11e9_89ab_94942601c652row4_col0\" class=\"data row4 col0\" >40</td>\n",
       "                        <td id=\"T_8ddcb2a8_d826_11e9_89ab_94942601c652row4_col1\" class=\"data row4 col1\" >20</td>\n",
       "            </tr>\n",
       "            <tr>\n",
       "                        <th id=\"T_8ddcb2a8_d826_11e9_89ab_94942601c652level0_row5\" class=\"row_heading level0 row5\" >5</th>\n",
       "                        <td id=\"T_8ddcb2a8_d826_11e9_89ab_94942601c652row5_col0\" class=\"data row5 col0\" >nan</td>\n",
       "                        <td id=\"T_8ddcb2a8_d826_11e9_89ab_94942601c652row5_col1\" class=\"data row5 col1\" >0</td>\n",
       "            </tr>\n",
       "            <tr>\n",
       "                        <th id=\"T_8ddcb2a8_d826_11e9_89ab_94942601c652level0_row6\" class=\"row_heading level0 row6\" >6</th>\n",
       "                        <td id=\"T_8ddcb2a8_d826_11e9_89ab_94942601c652row6_col0\" class=\"data row6 col0\" >60</td>\n",
       "                        <td id=\"T_8ddcb2a8_d826_11e9_89ab_94942601c652row6_col1\" class=\"data row6 col1\" >-20</td>\n",
       "            </tr>\n",
       "            <tr>\n",
       "                        <th id=\"T_8ddcb2a8_d826_11e9_89ab_94942601c652level0_row7\" class=\"row_heading level0 row7\" >7</th>\n",
       "                        <td id=\"T_8ddcb2a8_d826_11e9_89ab_94942601c652row7_col0\" class=\"data row7 col0\" >70</td>\n",
       "                        <td id=\"T_8ddcb2a8_d826_11e9_89ab_94942601c652row7_col1\" class=\"data row7 col1\" >-40</td>\n",
       "            </tr>\n",
       "            <tr>\n",
       "                        <th id=\"T_8ddcb2a8_d826_11e9_89ab_94942601c652level0_row8\" class=\"row_heading level0 row8\" >8</th>\n",
       "                        <td id=\"T_8ddcb2a8_d826_11e9_89ab_94942601c652row8_col0\" class=\"data row8 col0\" >80</td>\n",
       "                        <td id=\"T_8ddcb2a8_d826_11e9_89ab_94942601c652row8_col1\" class=\"data row8 col1\" >-60</td>\n",
       "            </tr>\n",
       "            <tr>\n",
       "                        <th id=\"T_8ddcb2a8_d826_11e9_89ab_94942601c652level0_row9\" class=\"row_heading level0 row9\" >9</th>\n",
       "                        <td id=\"T_8ddcb2a8_d826_11e9_89ab_94942601c652row9_col0\" class=\"data row9 col0\" >100</td>\n",
       "                        <td id=\"T_8ddcb2a8_d826_11e9_89ab_94942601c652row9_col1\" class=\"data row9 col1\" >-80</td>\n",
       "            </tr>\n",
       "    </tbody></table>"
      ],
      "text/plain": [
       "<pandas.io.formats.style.Styler at 0x114ac3630>"
      ]
     },
     "execution_count": 24,
     "metadata": {},
     "output_type": "execute_result"
    }
   ],
   "source": [
    "sample_df = pd.read_csv('../data/styling_sample_02.csv')\n",
    "sample_df.style.bar()"
   ]
  },
  {
   "cell_type": "code",
   "execution_count": 25,
   "metadata": {
    "ExecuteTime": {
     "end_time": "2019-09-15T22:38:17.120340Z",
     "start_time": "2019-09-15T22:38:17.011134Z"
    }
   },
   "outputs": [
    {
     "data": {
      "text/html": [
       "<style  type=\"text/css\" >\n",
       "    #T_8de4a686_d826_11e9_a852_94942601c652row0_col0 {\n",
       "            width:  10em;\n",
       "             height:  80%;\n",
       "        }    #T_8de4a686_d826_11e9_a852_94942601c652row1_col0 {\n",
       "            width:  10em;\n",
       "             height:  80%;\n",
       "            background:  linear-gradient(90deg,#d65f5f 10.0%, transparent 10.0%);\n",
       "        }    #T_8de4a686_d826_11e9_a852_94942601c652row1_col1 {\n",
       "            width:  10em;\n",
       "             height:  80%;\n",
       "            background:  linear-gradient(90deg, transparent 50.0%, #d65f5f 50.0%, #d65f5f 100.0%, transparent 100.0%);\n",
       "        }    #T_8de4a686_d826_11e9_a852_94942601c652row2_col0 {\n",
       "            width:  10em;\n",
       "             height:  80%;\n",
       "            background:  linear-gradient(90deg,#d65f5f 20.0%, transparent 20.0%);\n",
       "        }    #T_8de4a686_d826_11e9_a852_94942601c652row2_col1 {\n",
       "            width:  10em;\n",
       "             height:  80%;\n",
       "            background:  linear-gradient(90deg, transparent 50.0%, #d65f5f 50.0%, #d65f5f 87.5%, transparent 87.5%);\n",
       "        }    #T_8de4a686_d826_11e9_a852_94942601c652row3_col0 {\n",
       "            width:  10em;\n",
       "             height:  80%;\n",
       "            background:  linear-gradient(90deg,#d65f5f 30.0%, transparent 30.0%);\n",
       "        }    #T_8de4a686_d826_11e9_a852_94942601c652row3_col1 {\n",
       "            width:  10em;\n",
       "             height:  80%;\n",
       "            background:  linear-gradient(90deg, transparent 50.0%, #d65f5f 50.0%, #d65f5f 75.0%, transparent 75.0%);\n",
       "        }    #T_8de4a686_d826_11e9_a852_94942601c652row4_col0 {\n",
       "            width:  10em;\n",
       "             height:  80%;\n",
       "            background:  linear-gradient(90deg,#d65f5f 40.0%, transparent 40.0%);\n",
       "        }    #T_8de4a686_d826_11e9_a852_94942601c652row4_col1 {\n",
       "            width:  10em;\n",
       "             height:  80%;\n",
       "            background:  linear-gradient(90deg, transparent 50.0%, #d65f5f 50.0%, #d65f5f 62.5%, transparent 62.5%);\n",
       "        }    #T_8de4a686_d826_11e9_a852_94942601c652row5_col1 {\n",
       "            width:  10em;\n",
       "             height:  80%;\n",
       "        }    #T_8de4a686_d826_11e9_a852_94942601c652row6_col0 {\n",
       "            width:  10em;\n",
       "             height:  80%;\n",
       "            background:  linear-gradient(90deg,#d65f5f 60.0%, transparent 60.0%);\n",
       "        }    #T_8de4a686_d826_11e9_a852_94942601c652row6_col1 {\n",
       "            width:  10em;\n",
       "             height:  80%;\n",
       "            background:  linear-gradient(90deg, transparent 37.5%, #d65f5f 37.5%, #d65f5f 50.0%, transparent 50.0%);\n",
       "        }    #T_8de4a686_d826_11e9_a852_94942601c652row7_col0 {\n",
       "            width:  10em;\n",
       "             height:  80%;\n",
       "            background:  linear-gradient(90deg,#d65f5f 70.0%, transparent 70.0%);\n",
       "        }    #T_8de4a686_d826_11e9_a852_94942601c652row7_col1 {\n",
       "            width:  10em;\n",
       "             height:  80%;\n",
       "            background:  linear-gradient(90deg, transparent 25.0%, #d65f5f 25.0%, #d65f5f 50.0%, transparent 50.0%);\n",
       "        }    #T_8de4a686_d826_11e9_a852_94942601c652row8_col0 {\n",
       "            width:  10em;\n",
       "             height:  80%;\n",
       "            background:  linear-gradient(90deg,#d65f5f 80.0%, transparent 80.0%);\n",
       "        }    #T_8de4a686_d826_11e9_a852_94942601c652row8_col1 {\n",
       "            width:  10em;\n",
       "             height:  80%;\n",
       "            background:  linear-gradient(90deg, transparent 12.5%, #d65f5f 12.5%, #d65f5f 50.0%, transparent 50.0%);\n",
       "        }    #T_8de4a686_d826_11e9_a852_94942601c652row9_col0 {\n",
       "            width:  10em;\n",
       "             height:  80%;\n",
       "            background:  linear-gradient(90deg,#d65f5f 100.0%, transparent 100.0%);\n",
       "        }    #T_8de4a686_d826_11e9_a852_94942601c652row9_col1 {\n",
       "            width:  10em;\n",
       "             height:  80%;\n",
       "            background:  linear-gradient(90deg,#d65f5f 50.0%, transparent 50.0%);\n",
       "        }</style><table id=\"T_8de4a686_d826_11e9_a852_94942601c652\" ><thead>    <tr>        <th class=\"blank level0\" ></th>        <th class=\"col_heading level0 col0\" >A</th>        <th class=\"col_heading level0 col1\" >B</th>    </tr></thead><tbody>\n",
       "                <tr>\n",
       "                        <th id=\"T_8de4a686_d826_11e9_a852_94942601c652level0_row0\" class=\"row_heading level0 row0\" >0</th>\n",
       "                        <td id=\"T_8de4a686_d826_11e9_a852_94942601c652row0_col0\" class=\"data row0 col0\" >0</td>\n",
       "                        <td id=\"T_8de4a686_d826_11e9_a852_94942601c652row0_col1\" class=\"data row0 col1\" >nan</td>\n",
       "            </tr>\n",
       "            <tr>\n",
       "                        <th id=\"T_8de4a686_d826_11e9_a852_94942601c652level0_row1\" class=\"row_heading level0 row1\" >1</th>\n",
       "                        <td id=\"T_8de4a686_d826_11e9_a852_94942601c652row1_col0\" class=\"data row1 col0\" >10</td>\n",
       "                        <td id=\"T_8de4a686_d826_11e9_a852_94942601c652row1_col1\" class=\"data row1 col1\" >80</td>\n",
       "            </tr>\n",
       "            <tr>\n",
       "                        <th id=\"T_8de4a686_d826_11e9_a852_94942601c652level0_row2\" class=\"row_heading level0 row2\" >2</th>\n",
       "                        <td id=\"T_8de4a686_d826_11e9_a852_94942601c652row2_col0\" class=\"data row2 col0\" >20</td>\n",
       "                        <td id=\"T_8de4a686_d826_11e9_a852_94942601c652row2_col1\" class=\"data row2 col1\" >60</td>\n",
       "            </tr>\n",
       "            <tr>\n",
       "                        <th id=\"T_8de4a686_d826_11e9_a852_94942601c652level0_row3\" class=\"row_heading level0 row3\" >3</th>\n",
       "                        <td id=\"T_8de4a686_d826_11e9_a852_94942601c652row3_col0\" class=\"data row3 col0\" >30</td>\n",
       "                        <td id=\"T_8de4a686_d826_11e9_a852_94942601c652row3_col1\" class=\"data row3 col1\" >40</td>\n",
       "            </tr>\n",
       "            <tr>\n",
       "                        <th id=\"T_8de4a686_d826_11e9_a852_94942601c652level0_row4\" class=\"row_heading level0 row4\" >4</th>\n",
       "                        <td id=\"T_8de4a686_d826_11e9_a852_94942601c652row4_col0\" class=\"data row4 col0\" >40</td>\n",
       "                        <td id=\"T_8de4a686_d826_11e9_a852_94942601c652row4_col1\" class=\"data row4 col1\" >20</td>\n",
       "            </tr>\n",
       "            <tr>\n",
       "                        <th id=\"T_8de4a686_d826_11e9_a852_94942601c652level0_row5\" class=\"row_heading level0 row5\" >5</th>\n",
       "                        <td id=\"T_8de4a686_d826_11e9_a852_94942601c652row5_col0\" class=\"data row5 col0\" >nan</td>\n",
       "                        <td id=\"T_8de4a686_d826_11e9_a852_94942601c652row5_col1\" class=\"data row5 col1\" >0</td>\n",
       "            </tr>\n",
       "            <tr>\n",
       "                        <th id=\"T_8de4a686_d826_11e9_a852_94942601c652level0_row6\" class=\"row_heading level0 row6\" >6</th>\n",
       "                        <td id=\"T_8de4a686_d826_11e9_a852_94942601c652row6_col0\" class=\"data row6 col0\" >60</td>\n",
       "                        <td id=\"T_8de4a686_d826_11e9_a852_94942601c652row6_col1\" class=\"data row6 col1\" >-20</td>\n",
       "            </tr>\n",
       "            <tr>\n",
       "                        <th id=\"T_8de4a686_d826_11e9_a852_94942601c652level0_row7\" class=\"row_heading level0 row7\" >7</th>\n",
       "                        <td id=\"T_8de4a686_d826_11e9_a852_94942601c652row7_col0\" class=\"data row7 col0\" >70</td>\n",
       "                        <td id=\"T_8de4a686_d826_11e9_a852_94942601c652row7_col1\" class=\"data row7 col1\" >-40</td>\n",
       "            </tr>\n",
       "            <tr>\n",
       "                        <th id=\"T_8de4a686_d826_11e9_a852_94942601c652level0_row8\" class=\"row_heading level0 row8\" >8</th>\n",
       "                        <td id=\"T_8de4a686_d826_11e9_a852_94942601c652row8_col0\" class=\"data row8 col0\" >80</td>\n",
       "                        <td id=\"T_8de4a686_d826_11e9_a852_94942601c652row8_col1\" class=\"data row8 col1\" >-60</td>\n",
       "            </tr>\n",
       "            <tr>\n",
       "                        <th id=\"T_8de4a686_d826_11e9_a852_94942601c652level0_row9\" class=\"row_heading level0 row9\" >9</th>\n",
       "                        <td id=\"T_8de4a686_d826_11e9_a852_94942601c652row9_col0\" class=\"data row9 col0\" >100</td>\n",
       "                        <td id=\"T_8de4a686_d826_11e9_a852_94942601c652row9_col1\" class=\"data row9 col1\" >-80</td>\n",
       "            </tr>\n",
       "    </tbody></table>"
      ],
      "text/plain": [
       "<pandas.io.formats.style.Styler at 0x114b22828>"
      ]
     },
     "execution_count": 25,
     "metadata": {},
     "output_type": "execute_result"
    }
   ],
   "source": [
    "sample_df.style.bar(align='mid')"
   ]
  },
  {
   "cell_type": "code",
   "execution_count": 26,
   "metadata": {
    "ExecuteTime": {
     "end_time": "2019-09-15T22:36:14.087244Z",
     "start_time": "2019-09-15T22:36:14.051381Z"
    }
   },
   "outputs": [
    {
     "data": {
      "text/html": [
       "<style  type=\"text/css\" >\n",
       "    #T_8dec0410_d826_11e9_b583_94942601c652row0_col0 {\n",
       "            width:  10em;\n",
       "             height:  80%;\n",
       "        }    #T_8dec0410_d826_11e9_b583_94942601c652row1_col0 {\n",
       "            width:  10em;\n",
       "             height:  80%;\n",
       "            background:  linear-gradient(90deg,skyblue 10.0%, transparent 10.0%);\n",
       "        }    #T_8dec0410_d826_11e9_b583_94942601c652row1_col1 {\n",
       "            width:  10em;\n",
       "             height:  80%;\n",
       "            background:  linear-gradient(90deg, transparent 50.0%, skyblue 50.0%, skyblue 100.0%, transparent 100.0%);\n",
       "        }    #T_8dec0410_d826_11e9_b583_94942601c652row2_col0 {\n",
       "            width:  10em;\n",
       "             height:  80%;\n",
       "            background:  linear-gradient(90deg,skyblue 20.0%, transparent 20.0%);\n",
       "        }    #T_8dec0410_d826_11e9_b583_94942601c652row2_col1 {\n",
       "            width:  10em;\n",
       "             height:  80%;\n",
       "            background:  linear-gradient(90deg, transparent 50.0%, skyblue 50.0%, skyblue 87.5%, transparent 87.5%);\n",
       "        }    #T_8dec0410_d826_11e9_b583_94942601c652row3_col0 {\n",
       "            width:  10em;\n",
       "             height:  80%;\n",
       "            background:  linear-gradient(90deg,skyblue 30.0%, transparent 30.0%);\n",
       "        }    #T_8dec0410_d826_11e9_b583_94942601c652row3_col1 {\n",
       "            width:  10em;\n",
       "             height:  80%;\n",
       "            background:  linear-gradient(90deg, transparent 50.0%, skyblue 50.0%, skyblue 75.0%, transparent 75.0%);\n",
       "        }    #T_8dec0410_d826_11e9_b583_94942601c652row4_col0 {\n",
       "            width:  10em;\n",
       "             height:  80%;\n",
       "            background:  linear-gradient(90deg,skyblue 40.0%, transparent 40.0%);\n",
       "        }    #T_8dec0410_d826_11e9_b583_94942601c652row4_col1 {\n",
       "            width:  10em;\n",
       "             height:  80%;\n",
       "            background:  linear-gradient(90deg, transparent 50.0%, skyblue 50.0%, skyblue 62.5%, transparent 62.5%);\n",
       "        }    #T_8dec0410_d826_11e9_b583_94942601c652row5_col1 {\n",
       "            width:  10em;\n",
       "             height:  80%;\n",
       "        }    #T_8dec0410_d826_11e9_b583_94942601c652row6_col0 {\n",
       "            width:  10em;\n",
       "             height:  80%;\n",
       "            background:  linear-gradient(90deg,skyblue 60.0%, transparent 60.0%);\n",
       "        }    #T_8dec0410_d826_11e9_b583_94942601c652row6_col1 {\n",
       "            width:  10em;\n",
       "             height:  80%;\n",
       "            background:  linear-gradient(90deg, transparent 37.5%, skyblue 37.5%, skyblue 50.0%, transparent 50.0%);\n",
       "        }    #T_8dec0410_d826_11e9_b583_94942601c652row7_col0 {\n",
       "            width:  10em;\n",
       "             height:  80%;\n",
       "            background:  linear-gradient(90deg,skyblue 70.0%, transparent 70.0%);\n",
       "        }    #T_8dec0410_d826_11e9_b583_94942601c652row7_col1 {\n",
       "            width:  10em;\n",
       "             height:  80%;\n",
       "            background:  linear-gradient(90deg, transparent 25.0%, skyblue 25.0%, skyblue 50.0%, transparent 50.0%);\n",
       "        }    #T_8dec0410_d826_11e9_b583_94942601c652row8_col0 {\n",
       "            width:  10em;\n",
       "             height:  80%;\n",
       "            background:  linear-gradient(90deg,skyblue 80.0%, transparent 80.0%);\n",
       "        }    #T_8dec0410_d826_11e9_b583_94942601c652row8_col1 {\n",
       "            width:  10em;\n",
       "             height:  80%;\n",
       "            background:  linear-gradient(90deg, transparent 12.5%, skyblue 12.5%, skyblue 50.0%, transparent 50.0%);\n",
       "        }    #T_8dec0410_d826_11e9_b583_94942601c652row9_col0 {\n",
       "            width:  10em;\n",
       "             height:  80%;\n",
       "            background:  linear-gradient(90deg,skyblue 100.0%, transparent 100.0%);\n",
       "        }    #T_8dec0410_d826_11e9_b583_94942601c652row9_col1 {\n",
       "            width:  10em;\n",
       "             height:  80%;\n",
       "            background:  linear-gradient(90deg,skyblue 50.0%, transparent 50.0%);\n",
       "        }</style><table id=\"T_8dec0410_d826_11e9_b583_94942601c652\" ><thead>    <tr>        <th class=\"blank level0\" ></th>        <th class=\"col_heading level0 col0\" >A</th>        <th class=\"col_heading level0 col1\" >B</th>    </tr></thead><tbody>\n",
       "                <tr>\n",
       "                        <th id=\"T_8dec0410_d826_11e9_b583_94942601c652level0_row0\" class=\"row_heading level0 row0\" >0</th>\n",
       "                        <td id=\"T_8dec0410_d826_11e9_b583_94942601c652row0_col0\" class=\"data row0 col0\" >0</td>\n",
       "                        <td id=\"T_8dec0410_d826_11e9_b583_94942601c652row0_col1\" class=\"data row0 col1\" >nan</td>\n",
       "            </tr>\n",
       "            <tr>\n",
       "                        <th id=\"T_8dec0410_d826_11e9_b583_94942601c652level0_row1\" class=\"row_heading level0 row1\" >1</th>\n",
       "                        <td id=\"T_8dec0410_d826_11e9_b583_94942601c652row1_col0\" class=\"data row1 col0\" >10</td>\n",
       "                        <td id=\"T_8dec0410_d826_11e9_b583_94942601c652row1_col1\" class=\"data row1 col1\" >80</td>\n",
       "            </tr>\n",
       "            <tr>\n",
       "                        <th id=\"T_8dec0410_d826_11e9_b583_94942601c652level0_row2\" class=\"row_heading level0 row2\" >2</th>\n",
       "                        <td id=\"T_8dec0410_d826_11e9_b583_94942601c652row2_col0\" class=\"data row2 col0\" >20</td>\n",
       "                        <td id=\"T_8dec0410_d826_11e9_b583_94942601c652row2_col1\" class=\"data row2 col1\" >60</td>\n",
       "            </tr>\n",
       "            <tr>\n",
       "                        <th id=\"T_8dec0410_d826_11e9_b583_94942601c652level0_row3\" class=\"row_heading level0 row3\" >3</th>\n",
       "                        <td id=\"T_8dec0410_d826_11e9_b583_94942601c652row3_col0\" class=\"data row3 col0\" >30</td>\n",
       "                        <td id=\"T_8dec0410_d826_11e9_b583_94942601c652row3_col1\" class=\"data row3 col1\" >40</td>\n",
       "            </tr>\n",
       "            <tr>\n",
       "                        <th id=\"T_8dec0410_d826_11e9_b583_94942601c652level0_row4\" class=\"row_heading level0 row4\" >4</th>\n",
       "                        <td id=\"T_8dec0410_d826_11e9_b583_94942601c652row4_col0\" class=\"data row4 col0\" >40</td>\n",
       "                        <td id=\"T_8dec0410_d826_11e9_b583_94942601c652row4_col1\" class=\"data row4 col1\" >20</td>\n",
       "            </tr>\n",
       "            <tr>\n",
       "                        <th id=\"T_8dec0410_d826_11e9_b583_94942601c652level0_row5\" class=\"row_heading level0 row5\" >5</th>\n",
       "                        <td id=\"T_8dec0410_d826_11e9_b583_94942601c652row5_col0\" class=\"data row5 col0\" >nan</td>\n",
       "                        <td id=\"T_8dec0410_d826_11e9_b583_94942601c652row5_col1\" class=\"data row5 col1\" >0</td>\n",
       "            </tr>\n",
       "            <tr>\n",
       "                        <th id=\"T_8dec0410_d826_11e9_b583_94942601c652level0_row6\" class=\"row_heading level0 row6\" >6</th>\n",
       "                        <td id=\"T_8dec0410_d826_11e9_b583_94942601c652row6_col0\" class=\"data row6 col0\" >60</td>\n",
       "                        <td id=\"T_8dec0410_d826_11e9_b583_94942601c652row6_col1\" class=\"data row6 col1\" >-20</td>\n",
       "            </tr>\n",
       "            <tr>\n",
       "                        <th id=\"T_8dec0410_d826_11e9_b583_94942601c652level0_row7\" class=\"row_heading level0 row7\" >7</th>\n",
       "                        <td id=\"T_8dec0410_d826_11e9_b583_94942601c652row7_col0\" class=\"data row7 col0\" >70</td>\n",
       "                        <td id=\"T_8dec0410_d826_11e9_b583_94942601c652row7_col1\" class=\"data row7 col1\" >-40</td>\n",
       "            </tr>\n",
       "            <tr>\n",
       "                        <th id=\"T_8dec0410_d826_11e9_b583_94942601c652level0_row8\" class=\"row_heading level0 row8\" >8</th>\n",
       "                        <td id=\"T_8dec0410_d826_11e9_b583_94942601c652row8_col0\" class=\"data row8 col0\" >80</td>\n",
       "                        <td id=\"T_8dec0410_d826_11e9_b583_94942601c652row8_col1\" class=\"data row8 col1\" >-60</td>\n",
       "            </tr>\n",
       "            <tr>\n",
       "                        <th id=\"T_8dec0410_d826_11e9_b583_94942601c652level0_row9\" class=\"row_heading level0 row9\" >9</th>\n",
       "                        <td id=\"T_8dec0410_d826_11e9_b583_94942601c652row9_col0\" class=\"data row9 col0\" >100</td>\n",
       "                        <td id=\"T_8dec0410_d826_11e9_b583_94942601c652row9_col1\" class=\"data row9 col1\" >-80</td>\n",
       "            </tr>\n",
       "    </tbody></table>"
      ],
      "text/plain": [
       "<pandas.io.formats.style.Styler at 0x114b22978>"
      ]
     },
     "execution_count": 26,
     "metadata": {},
     "output_type": "execute_result"
    }
   ],
   "source": [
    "sample_df.style.bar(align='mid', color='skyblue')"
   ]
  },
  {
   "cell_type": "code",
   "execution_count": 27,
   "metadata": {
    "ExecuteTime": {
     "end_time": "2019-09-15T22:36:14.610263Z",
     "start_time": "2019-09-15T22:36:14.563051Z"
    }
   },
   "outputs": [
    {
     "data": {
      "text/html": [
       "<style  type=\"text/css\" >\n",
       "    #T_8df3bf1e_d826_11e9_8cc1_94942601c652row0_col0 {\n",
       "            width:  10em;\n",
       "             height:  80%;\n",
       "        }    #T_8df3bf1e_d826_11e9_8cc1_94942601c652row1_col0 {\n",
       "            width:  10em;\n",
       "             height:  80%;\n",
       "            background:  linear-gradient(90deg,lightgreen 10.0%, transparent 10.0%);\n",
       "        }    #T_8df3bf1e_d826_11e9_8cc1_94942601c652row1_col1 {\n",
       "            width:  10em;\n",
       "             height:  80%;\n",
       "            background:  linear-gradient(90deg, transparent 50.0%, lightgreen 50.0%, lightgreen 100.0%, transparent 100.0%);\n",
       "        }    #T_8df3bf1e_d826_11e9_8cc1_94942601c652row2_col0 {\n",
       "            width:  10em;\n",
       "             height:  80%;\n",
       "            background:  linear-gradient(90deg,lightgreen 20.0%, transparent 20.0%);\n",
       "        }    #T_8df3bf1e_d826_11e9_8cc1_94942601c652row2_col1 {\n",
       "            width:  10em;\n",
       "             height:  80%;\n",
       "            background:  linear-gradient(90deg, transparent 50.0%, lightgreen 50.0%, lightgreen 87.5%, transparent 87.5%);\n",
       "        }    #T_8df3bf1e_d826_11e9_8cc1_94942601c652row3_col0 {\n",
       "            width:  10em;\n",
       "             height:  80%;\n",
       "            background:  linear-gradient(90deg,lightgreen 30.0%, transparent 30.0%);\n",
       "        }    #T_8df3bf1e_d826_11e9_8cc1_94942601c652row3_col1 {\n",
       "            width:  10em;\n",
       "             height:  80%;\n",
       "            background:  linear-gradient(90deg, transparent 50.0%, lightgreen 50.0%, lightgreen 75.0%, transparent 75.0%);\n",
       "        }    #T_8df3bf1e_d826_11e9_8cc1_94942601c652row4_col0 {\n",
       "            width:  10em;\n",
       "             height:  80%;\n",
       "            background:  linear-gradient(90deg,lightgreen 40.0%, transparent 40.0%);\n",
       "        }    #T_8df3bf1e_d826_11e9_8cc1_94942601c652row4_col1 {\n",
       "            width:  10em;\n",
       "             height:  80%;\n",
       "            background:  linear-gradient(90deg, transparent 50.0%, lightgreen 50.0%, lightgreen 62.5%, transparent 62.5%);\n",
       "        }    #T_8df3bf1e_d826_11e9_8cc1_94942601c652row5_col1 {\n",
       "            width:  10em;\n",
       "             height:  80%;\n",
       "        }    #T_8df3bf1e_d826_11e9_8cc1_94942601c652row6_col0 {\n",
       "            width:  10em;\n",
       "             height:  80%;\n",
       "            background:  linear-gradient(90deg,lightgreen 60.0%, transparent 60.0%);\n",
       "        }    #T_8df3bf1e_d826_11e9_8cc1_94942601c652row6_col1 {\n",
       "            width:  10em;\n",
       "             height:  80%;\n",
       "            background:  linear-gradient(90deg, transparent 37.5%, red 37.5%, red 50.0%, transparent 50.0%);\n",
       "        }    #T_8df3bf1e_d826_11e9_8cc1_94942601c652row7_col0 {\n",
       "            width:  10em;\n",
       "             height:  80%;\n",
       "            background:  linear-gradient(90deg,lightgreen 70.0%, transparent 70.0%);\n",
       "        }    #T_8df3bf1e_d826_11e9_8cc1_94942601c652row7_col1 {\n",
       "            width:  10em;\n",
       "             height:  80%;\n",
       "            background:  linear-gradient(90deg, transparent 25.0%, red 25.0%, red 50.0%, transparent 50.0%);\n",
       "        }    #T_8df3bf1e_d826_11e9_8cc1_94942601c652row8_col0 {\n",
       "            width:  10em;\n",
       "             height:  80%;\n",
       "            background:  linear-gradient(90deg,lightgreen 80.0%, transparent 80.0%);\n",
       "        }    #T_8df3bf1e_d826_11e9_8cc1_94942601c652row8_col1 {\n",
       "            width:  10em;\n",
       "             height:  80%;\n",
       "            background:  linear-gradient(90deg, transparent 12.5%, red 12.5%, red 50.0%, transparent 50.0%);\n",
       "        }    #T_8df3bf1e_d826_11e9_8cc1_94942601c652row9_col0 {\n",
       "            width:  10em;\n",
       "             height:  80%;\n",
       "            background:  linear-gradient(90deg,lightgreen 100.0%, transparent 100.0%);\n",
       "        }    #T_8df3bf1e_d826_11e9_8cc1_94942601c652row9_col1 {\n",
       "            width:  10em;\n",
       "             height:  80%;\n",
       "            background:  linear-gradient(90deg,red 50.0%, transparent 50.0%);\n",
       "        }</style><table id=\"T_8df3bf1e_d826_11e9_8cc1_94942601c652\" ><thead>    <tr>        <th class=\"blank level0\" ></th>        <th class=\"col_heading level0 col0\" >A</th>        <th class=\"col_heading level0 col1\" >B</th>    </tr></thead><tbody>\n",
       "                <tr>\n",
       "                        <th id=\"T_8df3bf1e_d826_11e9_8cc1_94942601c652level0_row0\" class=\"row_heading level0 row0\" >0</th>\n",
       "                        <td id=\"T_8df3bf1e_d826_11e9_8cc1_94942601c652row0_col0\" class=\"data row0 col0\" >0</td>\n",
       "                        <td id=\"T_8df3bf1e_d826_11e9_8cc1_94942601c652row0_col1\" class=\"data row0 col1\" >nan</td>\n",
       "            </tr>\n",
       "            <tr>\n",
       "                        <th id=\"T_8df3bf1e_d826_11e9_8cc1_94942601c652level0_row1\" class=\"row_heading level0 row1\" >1</th>\n",
       "                        <td id=\"T_8df3bf1e_d826_11e9_8cc1_94942601c652row1_col0\" class=\"data row1 col0\" >10</td>\n",
       "                        <td id=\"T_8df3bf1e_d826_11e9_8cc1_94942601c652row1_col1\" class=\"data row1 col1\" >80</td>\n",
       "            </tr>\n",
       "            <tr>\n",
       "                        <th id=\"T_8df3bf1e_d826_11e9_8cc1_94942601c652level0_row2\" class=\"row_heading level0 row2\" >2</th>\n",
       "                        <td id=\"T_8df3bf1e_d826_11e9_8cc1_94942601c652row2_col0\" class=\"data row2 col0\" >20</td>\n",
       "                        <td id=\"T_8df3bf1e_d826_11e9_8cc1_94942601c652row2_col1\" class=\"data row2 col1\" >60</td>\n",
       "            </tr>\n",
       "            <tr>\n",
       "                        <th id=\"T_8df3bf1e_d826_11e9_8cc1_94942601c652level0_row3\" class=\"row_heading level0 row3\" >3</th>\n",
       "                        <td id=\"T_8df3bf1e_d826_11e9_8cc1_94942601c652row3_col0\" class=\"data row3 col0\" >30</td>\n",
       "                        <td id=\"T_8df3bf1e_d826_11e9_8cc1_94942601c652row3_col1\" class=\"data row3 col1\" >40</td>\n",
       "            </tr>\n",
       "            <tr>\n",
       "                        <th id=\"T_8df3bf1e_d826_11e9_8cc1_94942601c652level0_row4\" class=\"row_heading level0 row4\" >4</th>\n",
       "                        <td id=\"T_8df3bf1e_d826_11e9_8cc1_94942601c652row4_col0\" class=\"data row4 col0\" >40</td>\n",
       "                        <td id=\"T_8df3bf1e_d826_11e9_8cc1_94942601c652row4_col1\" class=\"data row4 col1\" >20</td>\n",
       "            </tr>\n",
       "            <tr>\n",
       "                        <th id=\"T_8df3bf1e_d826_11e9_8cc1_94942601c652level0_row5\" class=\"row_heading level0 row5\" >5</th>\n",
       "                        <td id=\"T_8df3bf1e_d826_11e9_8cc1_94942601c652row5_col0\" class=\"data row5 col0\" >nan</td>\n",
       "                        <td id=\"T_8df3bf1e_d826_11e9_8cc1_94942601c652row5_col1\" class=\"data row5 col1\" >0</td>\n",
       "            </tr>\n",
       "            <tr>\n",
       "                        <th id=\"T_8df3bf1e_d826_11e9_8cc1_94942601c652level0_row6\" class=\"row_heading level0 row6\" >6</th>\n",
       "                        <td id=\"T_8df3bf1e_d826_11e9_8cc1_94942601c652row6_col0\" class=\"data row6 col0\" >60</td>\n",
       "                        <td id=\"T_8df3bf1e_d826_11e9_8cc1_94942601c652row6_col1\" class=\"data row6 col1\" >-20</td>\n",
       "            </tr>\n",
       "            <tr>\n",
       "                        <th id=\"T_8df3bf1e_d826_11e9_8cc1_94942601c652level0_row7\" class=\"row_heading level0 row7\" >7</th>\n",
       "                        <td id=\"T_8df3bf1e_d826_11e9_8cc1_94942601c652row7_col0\" class=\"data row7 col0\" >70</td>\n",
       "                        <td id=\"T_8df3bf1e_d826_11e9_8cc1_94942601c652row7_col1\" class=\"data row7 col1\" >-40</td>\n",
       "            </tr>\n",
       "            <tr>\n",
       "                        <th id=\"T_8df3bf1e_d826_11e9_8cc1_94942601c652level0_row8\" class=\"row_heading level0 row8\" >8</th>\n",
       "                        <td id=\"T_8df3bf1e_d826_11e9_8cc1_94942601c652row8_col0\" class=\"data row8 col0\" >80</td>\n",
       "                        <td id=\"T_8df3bf1e_d826_11e9_8cc1_94942601c652row8_col1\" class=\"data row8 col1\" >-60</td>\n",
       "            </tr>\n",
       "            <tr>\n",
       "                        <th id=\"T_8df3bf1e_d826_11e9_8cc1_94942601c652level0_row9\" class=\"row_heading level0 row9\" >9</th>\n",
       "                        <td id=\"T_8df3bf1e_d826_11e9_8cc1_94942601c652row9_col0\" class=\"data row9 col0\" >100</td>\n",
       "                        <td id=\"T_8df3bf1e_d826_11e9_8cc1_94942601c652row9_col1\" class=\"data row9 col1\" >-80</td>\n",
       "            </tr>\n",
       "    </tbody></table>"
      ],
      "text/plain": [
       "<pandas.io.formats.style.Styler at 0x114b22f98>"
      ]
     },
     "execution_count": 27,
     "metadata": {},
     "output_type": "execute_result"
    }
   ],
   "source": [
    "sample_df.style.bar(align='mid', color=['red', 'lightgreen'])"
   ]
  },
  {
   "cell_type": "markdown",
   "metadata": {},
   "source": [
    "# スタイルを適用する範囲を絞る"
   ]
  },
  {
   "cell_type": "code",
   "execution_count": 28,
   "metadata": {},
   "outputs": [
    {
     "data": {
      "text/html": [
       "<style  type=\"text/css\" >\n",
       "    #T_8dfa4c9e_d826_11e9_86eb_94942601c652row0_col0 {\n",
       "            width:  10em;\n",
       "             height:  80%;\n",
       "        }    #T_8dfa4c9e_d826_11e9_86eb_94942601c652row1_col0 {\n",
       "            width:  10em;\n",
       "             height:  80%;\n",
       "            background:  linear-gradient(90deg,#d65f5f 10.0%, transparent 10.0%);\n",
       "        }    #T_8dfa4c9e_d826_11e9_86eb_94942601c652row2_col0 {\n",
       "            width:  10em;\n",
       "             height:  80%;\n",
       "            background:  linear-gradient(90deg,#d65f5f 20.0%, transparent 20.0%);\n",
       "        }    #T_8dfa4c9e_d826_11e9_86eb_94942601c652row3_col0 {\n",
       "            width:  10em;\n",
       "             height:  80%;\n",
       "            background:  linear-gradient(90deg,#d65f5f 30.0%, transparent 30.0%);\n",
       "        }    #T_8dfa4c9e_d826_11e9_86eb_94942601c652row4_col0 {\n",
       "            width:  10em;\n",
       "             height:  80%;\n",
       "            background:  linear-gradient(90deg,#d65f5f 40.0%, transparent 40.0%);\n",
       "        }    #T_8dfa4c9e_d826_11e9_86eb_94942601c652row6_col0 {\n",
       "            width:  10em;\n",
       "             height:  80%;\n",
       "            background:  linear-gradient(90deg,#d65f5f 60.0%, transparent 60.0%);\n",
       "        }    #T_8dfa4c9e_d826_11e9_86eb_94942601c652row7_col0 {\n",
       "            width:  10em;\n",
       "             height:  80%;\n",
       "            background:  linear-gradient(90deg,#d65f5f 70.0%, transparent 70.0%);\n",
       "        }    #T_8dfa4c9e_d826_11e9_86eb_94942601c652row8_col0 {\n",
       "            width:  10em;\n",
       "             height:  80%;\n",
       "            background:  linear-gradient(90deg,#d65f5f 80.0%, transparent 80.0%);\n",
       "        }    #T_8dfa4c9e_d826_11e9_86eb_94942601c652row9_col0 {\n",
       "            width:  10em;\n",
       "             height:  80%;\n",
       "            background:  linear-gradient(90deg,#d65f5f 100.0%, transparent 100.0%);\n",
       "        }</style><table id=\"T_8dfa4c9e_d826_11e9_86eb_94942601c652\" ><thead>    <tr>        <th class=\"blank level0\" ></th>        <th class=\"col_heading level0 col0\" >A</th>        <th class=\"col_heading level0 col1\" >B</th>    </tr></thead><tbody>\n",
       "                <tr>\n",
       "                        <th id=\"T_8dfa4c9e_d826_11e9_86eb_94942601c652level0_row0\" class=\"row_heading level0 row0\" >0</th>\n",
       "                        <td id=\"T_8dfa4c9e_d826_11e9_86eb_94942601c652row0_col0\" class=\"data row0 col0\" >0</td>\n",
       "                        <td id=\"T_8dfa4c9e_d826_11e9_86eb_94942601c652row0_col1\" class=\"data row0 col1\" >nan</td>\n",
       "            </tr>\n",
       "            <tr>\n",
       "                        <th id=\"T_8dfa4c9e_d826_11e9_86eb_94942601c652level0_row1\" class=\"row_heading level0 row1\" >1</th>\n",
       "                        <td id=\"T_8dfa4c9e_d826_11e9_86eb_94942601c652row1_col0\" class=\"data row1 col0\" >10</td>\n",
       "                        <td id=\"T_8dfa4c9e_d826_11e9_86eb_94942601c652row1_col1\" class=\"data row1 col1\" >80</td>\n",
       "            </tr>\n",
       "            <tr>\n",
       "                        <th id=\"T_8dfa4c9e_d826_11e9_86eb_94942601c652level0_row2\" class=\"row_heading level0 row2\" >2</th>\n",
       "                        <td id=\"T_8dfa4c9e_d826_11e9_86eb_94942601c652row2_col0\" class=\"data row2 col0\" >20</td>\n",
       "                        <td id=\"T_8dfa4c9e_d826_11e9_86eb_94942601c652row2_col1\" class=\"data row2 col1\" >60</td>\n",
       "            </tr>\n",
       "            <tr>\n",
       "                        <th id=\"T_8dfa4c9e_d826_11e9_86eb_94942601c652level0_row3\" class=\"row_heading level0 row3\" >3</th>\n",
       "                        <td id=\"T_8dfa4c9e_d826_11e9_86eb_94942601c652row3_col0\" class=\"data row3 col0\" >30</td>\n",
       "                        <td id=\"T_8dfa4c9e_d826_11e9_86eb_94942601c652row3_col1\" class=\"data row3 col1\" >40</td>\n",
       "            </tr>\n",
       "            <tr>\n",
       "                        <th id=\"T_8dfa4c9e_d826_11e9_86eb_94942601c652level0_row4\" class=\"row_heading level0 row4\" >4</th>\n",
       "                        <td id=\"T_8dfa4c9e_d826_11e9_86eb_94942601c652row4_col0\" class=\"data row4 col0\" >40</td>\n",
       "                        <td id=\"T_8dfa4c9e_d826_11e9_86eb_94942601c652row4_col1\" class=\"data row4 col1\" >20</td>\n",
       "            </tr>\n",
       "            <tr>\n",
       "                        <th id=\"T_8dfa4c9e_d826_11e9_86eb_94942601c652level0_row5\" class=\"row_heading level0 row5\" >5</th>\n",
       "                        <td id=\"T_8dfa4c9e_d826_11e9_86eb_94942601c652row5_col0\" class=\"data row5 col0\" >nan</td>\n",
       "                        <td id=\"T_8dfa4c9e_d826_11e9_86eb_94942601c652row5_col1\" class=\"data row5 col1\" >0</td>\n",
       "            </tr>\n",
       "            <tr>\n",
       "                        <th id=\"T_8dfa4c9e_d826_11e9_86eb_94942601c652level0_row6\" class=\"row_heading level0 row6\" >6</th>\n",
       "                        <td id=\"T_8dfa4c9e_d826_11e9_86eb_94942601c652row6_col0\" class=\"data row6 col0\" >60</td>\n",
       "                        <td id=\"T_8dfa4c9e_d826_11e9_86eb_94942601c652row6_col1\" class=\"data row6 col1\" >-20</td>\n",
       "            </tr>\n",
       "            <tr>\n",
       "                        <th id=\"T_8dfa4c9e_d826_11e9_86eb_94942601c652level0_row7\" class=\"row_heading level0 row7\" >7</th>\n",
       "                        <td id=\"T_8dfa4c9e_d826_11e9_86eb_94942601c652row7_col0\" class=\"data row7 col0\" >70</td>\n",
       "                        <td id=\"T_8dfa4c9e_d826_11e9_86eb_94942601c652row7_col1\" class=\"data row7 col1\" >-40</td>\n",
       "            </tr>\n",
       "            <tr>\n",
       "                        <th id=\"T_8dfa4c9e_d826_11e9_86eb_94942601c652level0_row8\" class=\"row_heading level0 row8\" >8</th>\n",
       "                        <td id=\"T_8dfa4c9e_d826_11e9_86eb_94942601c652row8_col0\" class=\"data row8 col0\" >80</td>\n",
       "                        <td id=\"T_8dfa4c9e_d826_11e9_86eb_94942601c652row8_col1\" class=\"data row8 col1\" >-60</td>\n",
       "            </tr>\n",
       "            <tr>\n",
       "                        <th id=\"T_8dfa4c9e_d826_11e9_86eb_94942601c652level0_row9\" class=\"row_heading level0 row9\" >9</th>\n",
       "                        <td id=\"T_8dfa4c9e_d826_11e9_86eb_94942601c652row9_col0\" class=\"data row9 col0\" >100</td>\n",
       "                        <td id=\"T_8dfa4c9e_d826_11e9_86eb_94942601c652row9_col1\" class=\"data row9 col1\" >-80</td>\n",
       "            </tr>\n",
       "    </tbody></table>"
      ],
      "text/plain": [
       "<pandas.io.formats.style.Styler at 0x114ac3550>"
      ]
     },
     "execution_count": 28,
     "metadata": {},
     "output_type": "execute_result"
    }
   ],
   "source": [
    "sample_df.style.bar(subset=['A'])"
   ]
  },
  {
   "cell_type": "markdown",
   "metadata": {},
   "source": [
    "# キャプションをつける(`set_caption`)"
   ]
  },
  {
   "cell_type": "code",
   "execution_count": 29,
   "metadata": {},
   "outputs": [
    {
     "data": {
      "text/html": [
       "<style  type=\"text/css\" >\n",
       "    #T_8dffa592_d826_11e9_9201_94942601c652row0_col0 {\n",
       "            color:  black;\n",
       "        }    #T_8dffa592_d826_11e9_9201_94942601c652row0_col1 {\n",
       "            color:  black;\n",
       "        }    #T_8dffa592_d826_11e9_9201_94942601c652row0_col2 {\n",
       "            color:  black;\n",
       "        }    #T_8dffa592_d826_11e9_9201_94942601c652row1_col0 {\n",
       "            color:  red;\n",
       "        }    #T_8dffa592_d826_11e9_9201_94942601c652row1_col1 {\n",
       "            color:  black;\n",
       "        }    #T_8dffa592_d826_11e9_9201_94942601c652row1_col2 {\n",
       "            color:  black;\n",
       "        }    #T_8dffa592_d826_11e9_9201_94942601c652row2_col0 {\n",
       "            color:  black;\n",
       "        }    #T_8dffa592_d826_11e9_9201_94942601c652row2_col1 {\n",
       "            color:  black;\n",
       "        }    #T_8dffa592_d826_11e9_9201_94942601c652row2_col2 {\n",
       "            color:  black;\n",
       "        }    #T_8dffa592_d826_11e9_9201_94942601c652row3_col0 {\n",
       "            color:  black;\n",
       "        }    #T_8dffa592_d826_11e9_9201_94942601c652row3_col1 {\n",
       "            color:  red;\n",
       "        }    #T_8dffa592_d826_11e9_9201_94942601c652row3_col2 {\n",
       "            color:  black;\n",
       "        }</style><table id=\"T_8dffa592_d826_11e9_9201_94942601c652\" ><caption>期末試験の結果</caption><thead>    <tr>        <th class=\"blank level0\" ></th>        <th class=\"col_heading level0 col0\" >Araki</th>        <th class=\"col_heading level0 col1\" >Baba</th>        <th class=\"col_heading level0 col2\" >Chou</th>    </tr>    <tr>        <th class=\"index_name level0\" >index</th>        <th class=\"blank\" ></th>        <th class=\"blank\" ></th>        <th class=\"blank\" ></th>    </tr></thead><tbody>\n",
       "                <tr>\n",
       "                        <th id=\"T_8dffa592_d826_11e9_9201_94942601c652level0_row0\" class=\"row_heading level0 row0\" >国語</th>\n",
       "                        <td id=\"T_8dffa592_d826_11e9_9201_94942601c652row0_col0\" class=\"data row0 col0\" >75</td>\n",
       "                        <td id=\"T_8dffa592_d826_11e9_9201_94942601c652row0_col1\" class=\"data row0 col1\" >80</td>\n",
       "                        <td id=\"T_8dffa592_d826_11e9_9201_94942601c652row0_col2\" class=\"data row0 col2\" >95</td>\n",
       "            </tr>\n",
       "            <tr>\n",
       "                        <th id=\"T_8dffa592_d826_11e9_9201_94942601c652level0_row1\" class=\"row_heading level0 row1\" >数学</th>\n",
       "                        <td id=\"T_8dffa592_d826_11e9_9201_94942601c652row1_col0\" class=\"data row1 col0\" >55</td>\n",
       "                        <td id=\"T_8dffa592_d826_11e9_9201_94942601c652row1_col1\" class=\"data row1 col1\" >nan</td>\n",
       "                        <td id=\"T_8dffa592_d826_11e9_9201_94942601c652row1_col2\" class=\"data row1 col2\" >70</td>\n",
       "            </tr>\n",
       "            <tr>\n",
       "                        <th id=\"T_8dffa592_d826_11e9_9201_94942601c652level0_row2\" class=\"row_heading level0 row2\" >理科</th>\n",
       "                        <td id=\"T_8dffa592_d826_11e9_9201_94942601c652row2_col0\" class=\"data row2 col0\" >80</td>\n",
       "                        <td id=\"T_8dffa592_d826_11e9_9201_94942601c652row2_col1\" class=\"data row2 col1\" >90</td>\n",
       "                        <td id=\"T_8dffa592_d826_11e9_9201_94942601c652row2_col2\" class=\"data row2 col2\" >85</td>\n",
       "            </tr>\n",
       "            <tr>\n",
       "                        <th id=\"T_8dffa592_d826_11e9_9201_94942601c652level0_row3\" class=\"row_heading level0 row3\" >社会</th>\n",
       "                        <td id=\"T_8dffa592_d826_11e9_9201_94942601c652row3_col0\" class=\"data row3 col0\" >90</td>\n",
       "                        <td id=\"T_8dffa592_d826_11e9_9201_94942601c652row3_col1\" class=\"data row3 col1\" >30</td>\n",
       "                        <td id=\"T_8dffa592_d826_11e9_9201_94942601c652row3_col2\" class=\"data row3 col2\" >70</td>\n",
       "            </tr>\n",
       "    </tbody></table>"
      ],
      "text/plain": [
       "<pandas.io.formats.style.Styler at 0x114b22cc0>"
      ]
     },
     "execution_count": 29,
     "metadata": {},
     "output_type": "execute_result"
    }
   ],
   "source": [
    "df.style.applymap(color_red_akaten).set_caption(\"期末試験の結果\")"
   ]
  },
  {
   "cell_type": "markdown",
   "metadata": {},
   "source": [
    "# Excelにスタイル付でエクスポートする"
   ]
  },
  {
   "cell_type": "markdown",
   "metadata": {},
   "source": [
    "## to_excel\n",
    "openpyxlを別途インストールする必要があります。"
   ]
  },
  {
   "cell_type": "code",
   "execution_count": 30,
   "metadata": {},
   "outputs": [
    {
     "data": {
      "text/html": [
       "<style  type=\"text/css\" >\n",
       "    #T_8e0c5134_d826_11e9_9da7_94942601c652row0_col2 {\n",
       "            background-color:  yellow;\n",
       "        }    #T_8e0c5134_d826_11e9_9da7_94942601c652row2_col1 {\n",
       "            background-color:  yellow;\n",
       "        }    #T_8e0c5134_d826_11e9_9da7_94942601c652row3_col0 {\n",
       "            background-color:  yellow;\n",
       "        }</style><table id=\"T_8e0c5134_d826_11e9_9da7_94942601c652\" ><thead>    <tr>        <th class=\"blank level0\" ></th>        <th class=\"col_heading level0 col0\" >Araki</th>        <th class=\"col_heading level0 col1\" >Baba</th>        <th class=\"col_heading level0 col2\" >Chou</th>    </tr>    <tr>        <th class=\"index_name level0\" >index</th>        <th class=\"blank\" ></th>        <th class=\"blank\" ></th>        <th class=\"blank\" ></th>    </tr></thead><tbody>\n",
       "                <tr>\n",
       "                        <th id=\"T_8e0c5134_d826_11e9_9da7_94942601c652level0_row0\" class=\"row_heading level0 row0\" >国語</th>\n",
       "                        <td id=\"T_8e0c5134_d826_11e9_9da7_94942601c652row0_col0\" class=\"data row0 col0\" >75</td>\n",
       "                        <td id=\"T_8e0c5134_d826_11e9_9da7_94942601c652row0_col1\" class=\"data row0 col1\" >80</td>\n",
       "                        <td id=\"T_8e0c5134_d826_11e9_9da7_94942601c652row0_col2\" class=\"data row0 col2\" >95</td>\n",
       "            </tr>\n",
       "            <tr>\n",
       "                        <th id=\"T_8e0c5134_d826_11e9_9da7_94942601c652level0_row1\" class=\"row_heading level0 row1\" >数学</th>\n",
       "                        <td id=\"T_8e0c5134_d826_11e9_9da7_94942601c652row1_col0\" class=\"data row1 col0\" >55</td>\n",
       "                        <td id=\"T_8e0c5134_d826_11e9_9da7_94942601c652row1_col1\" class=\"data row1 col1\" >nan</td>\n",
       "                        <td id=\"T_8e0c5134_d826_11e9_9da7_94942601c652row1_col2\" class=\"data row1 col2\" >70</td>\n",
       "            </tr>\n",
       "            <tr>\n",
       "                        <th id=\"T_8e0c5134_d826_11e9_9da7_94942601c652level0_row2\" class=\"row_heading level0 row2\" >理科</th>\n",
       "                        <td id=\"T_8e0c5134_d826_11e9_9da7_94942601c652row2_col0\" class=\"data row2 col0\" >80</td>\n",
       "                        <td id=\"T_8e0c5134_d826_11e9_9da7_94942601c652row2_col1\" class=\"data row2 col1\" >90</td>\n",
       "                        <td id=\"T_8e0c5134_d826_11e9_9da7_94942601c652row2_col2\" class=\"data row2 col2\" >85</td>\n",
       "            </tr>\n",
       "            <tr>\n",
       "                        <th id=\"T_8e0c5134_d826_11e9_9da7_94942601c652level0_row3\" class=\"row_heading level0 row3\" >社会</th>\n",
       "                        <td id=\"T_8e0c5134_d826_11e9_9da7_94942601c652row3_col0\" class=\"data row3 col0\" >90</td>\n",
       "                        <td id=\"T_8e0c5134_d826_11e9_9da7_94942601c652row3_col1\" class=\"data row3 col1\" >30</td>\n",
       "                        <td id=\"T_8e0c5134_d826_11e9_9da7_94942601c652row3_col2\" class=\"data row3 col2\" >70</td>\n",
       "            </tr>\n",
       "    </tbody></table>"
      ],
      "text/plain": [
       "<pandas.io.formats.style.Styler at 0x114b22a20>"
      ]
     },
     "execution_count": 30,
     "metadata": {},
     "output_type": "execute_result"
    }
   ],
   "source": [
    "df.style.highlight_max()"
   ]
  },
  {
   "cell_type": "code",
   "execution_count": 31,
   "metadata": {},
   "outputs": [],
   "source": [
    "df.style.highlight_max().to_excel('exam_df.xlsx')"
   ]
  },
  {
   "cell_type": "code",
   "execution_count": 32,
   "metadata": {},
   "outputs": [
    {
     "data": {
      "text/html": [
       "<style  type=\"text/css\" >\n",
       "    #T_8e7029f4_d826_11e9_b0be_94942601c652row0_col0 {\n",
       "            width:  10em;\n",
       "             height:  80%;\n",
       "        }    #T_8e7029f4_d826_11e9_b0be_94942601c652row1_col0 {\n",
       "            width:  10em;\n",
       "             height:  80%;\n",
       "            background:  linear-gradient(90deg,#d65f5f 10.0%, transparent 10.0%);\n",
       "        }    #T_8e7029f4_d826_11e9_b0be_94942601c652row1_col1 {\n",
       "            width:  10em;\n",
       "             height:  80%;\n",
       "            background:  linear-gradient(90deg,#d65f5f 100.0%, transparent 100.0%);\n",
       "        }    #T_8e7029f4_d826_11e9_b0be_94942601c652row2_col0 {\n",
       "            width:  10em;\n",
       "             height:  80%;\n",
       "            background:  linear-gradient(90deg,#d65f5f 20.0%, transparent 20.0%);\n",
       "        }    #T_8e7029f4_d826_11e9_b0be_94942601c652row2_col1 {\n",
       "            width:  10em;\n",
       "             height:  80%;\n",
       "            background:  linear-gradient(90deg,#d65f5f 87.5%, transparent 87.5%);\n",
       "        }    #T_8e7029f4_d826_11e9_b0be_94942601c652row3_col0 {\n",
       "            width:  10em;\n",
       "             height:  80%;\n",
       "            background:  linear-gradient(90deg,#d65f5f 30.0%, transparent 30.0%);\n",
       "        }    #T_8e7029f4_d826_11e9_b0be_94942601c652row3_col1 {\n",
       "            width:  10em;\n",
       "             height:  80%;\n",
       "            background:  linear-gradient(90deg,#d65f5f 75.0%, transparent 75.0%);\n",
       "        }    #T_8e7029f4_d826_11e9_b0be_94942601c652row4_col0 {\n",
       "            width:  10em;\n",
       "             height:  80%;\n",
       "            background:  linear-gradient(90deg,#d65f5f 40.0%, transparent 40.0%);\n",
       "        }    #T_8e7029f4_d826_11e9_b0be_94942601c652row4_col1 {\n",
       "            width:  10em;\n",
       "             height:  80%;\n",
       "            background:  linear-gradient(90deg,#d65f5f 62.5%, transparent 62.5%);\n",
       "        }    #T_8e7029f4_d826_11e9_b0be_94942601c652row5_col1 {\n",
       "            width:  10em;\n",
       "             height:  80%;\n",
       "            background:  linear-gradient(90deg,#d65f5f 50.0%, transparent 50.0%);\n",
       "        }    #T_8e7029f4_d826_11e9_b0be_94942601c652row6_col0 {\n",
       "            width:  10em;\n",
       "             height:  80%;\n",
       "            background:  linear-gradient(90deg,#d65f5f 60.0%, transparent 60.0%);\n",
       "        }    #T_8e7029f4_d826_11e9_b0be_94942601c652row6_col1 {\n",
       "            width:  10em;\n",
       "             height:  80%;\n",
       "            background:  linear-gradient(90deg,#d65f5f 37.5%, transparent 37.5%);\n",
       "        }    #T_8e7029f4_d826_11e9_b0be_94942601c652row7_col0 {\n",
       "            width:  10em;\n",
       "             height:  80%;\n",
       "            background:  linear-gradient(90deg,#d65f5f 70.0%, transparent 70.0%);\n",
       "        }    #T_8e7029f4_d826_11e9_b0be_94942601c652row7_col1 {\n",
       "            width:  10em;\n",
       "             height:  80%;\n",
       "            background:  linear-gradient(90deg,#d65f5f 25.0%, transparent 25.0%);\n",
       "        }    #T_8e7029f4_d826_11e9_b0be_94942601c652row8_col0 {\n",
       "            width:  10em;\n",
       "             height:  80%;\n",
       "            background:  linear-gradient(90deg,#d65f5f 80.0%, transparent 80.0%);\n",
       "        }    #T_8e7029f4_d826_11e9_b0be_94942601c652row8_col1 {\n",
       "            width:  10em;\n",
       "             height:  80%;\n",
       "            background:  linear-gradient(90deg,#d65f5f 12.5%, transparent 12.5%);\n",
       "        }    #T_8e7029f4_d826_11e9_b0be_94942601c652row9_col0 {\n",
       "            width:  10em;\n",
       "             height:  80%;\n",
       "            background:  linear-gradient(90deg,#d65f5f 100.0%, transparent 100.0%);\n",
       "        }    #T_8e7029f4_d826_11e9_b0be_94942601c652row9_col1 {\n",
       "            width:  10em;\n",
       "             height:  80%;\n",
       "        }</style><table id=\"T_8e7029f4_d826_11e9_b0be_94942601c652\" ><thead>    <tr>        <th class=\"blank level0\" ></th>        <th class=\"col_heading level0 col0\" >A</th>        <th class=\"col_heading level0 col1\" >B</th>    </tr></thead><tbody>\n",
       "                <tr>\n",
       "                        <th id=\"T_8e7029f4_d826_11e9_b0be_94942601c652level0_row0\" class=\"row_heading level0 row0\" >0</th>\n",
       "                        <td id=\"T_8e7029f4_d826_11e9_b0be_94942601c652row0_col0\" class=\"data row0 col0\" >0</td>\n",
       "                        <td id=\"T_8e7029f4_d826_11e9_b0be_94942601c652row0_col1\" class=\"data row0 col1\" >nan</td>\n",
       "            </tr>\n",
       "            <tr>\n",
       "                        <th id=\"T_8e7029f4_d826_11e9_b0be_94942601c652level0_row1\" class=\"row_heading level0 row1\" >1</th>\n",
       "                        <td id=\"T_8e7029f4_d826_11e9_b0be_94942601c652row1_col0\" class=\"data row1 col0\" >10</td>\n",
       "                        <td id=\"T_8e7029f4_d826_11e9_b0be_94942601c652row1_col1\" class=\"data row1 col1\" >80</td>\n",
       "            </tr>\n",
       "            <tr>\n",
       "                        <th id=\"T_8e7029f4_d826_11e9_b0be_94942601c652level0_row2\" class=\"row_heading level0 row2\" >2</th>\n",
       "                        <td id=\"T_8e7029f4_d826_11e9_b0be_94942601c652row2_col0\" class=\"data row2 col0\" >20</td>\n",
       "                        <td id=\"T_8e7029f4_d826_11e9_b0be_94942601c652row2_col1\" class=\"data row2 col1\" >60</td>\n",
       "            </tr>\n",
       "            <tr>\n",
       "                        <th id=\"T_8e7029f4_d826_11e9_b0be_94942601c652level0_row3\" class=\"row_heading level0 row3\" >3</th>\n",
       "                        <td id=\"T_8e7029f4_d826_11e9_b0be_94942601c652row3_col0\" class=\"data row3 col0\" >30</td>\n",
       "                        <td id=\"T_8e7029f4_d826_11e9_b0be_94942601c652row3_col1\" class=\"data row3 col1\" >40</td>\n",
       "            </tr>\n",
       "            <tr>\n",
       "                        <th id=\"T_8e7029f4_d826_11e9_b0be_94942601c652level0_row4\" class=\"row_heading level0 row4\" >4</th>\n",
       "                        <td id=\"T_8e7029f4_d826_11e9_b0be_94942601c652row4_col0\" class=\"data row4 col0\" >40</td>\n",
       "                        <td id=\"T_8e7029f4_d826_11e9_b0be_94942601c652row4_col1\" class=\"data row4 col1\" >20</td>\n",
       "            </tr>\n",
       "            <tr>\n",
       "                        <th id=\"T_8e7029f4_d826_11e9_b0be_94942601c652level0_row5\" class=\"row_heading level0 row5\" >5</th>\n",
       "                        <td id=\"T_8e7029f4_d826_11e9_b0be_94942601c652row5_col0\" class=\"data row5 col0\" >nan</td>\n",
       "                        <td id=\"T_8e7029f4_d826_11e9_b0be_94942601c652row5_col1\" class=\"data row5 col1\" >0</td>\n",
       "            </tr>\n",
       "            <tr>\n",
       "                        <th id=\"T_8e7029f4_d826_11e9_b0be_94942601c652level0_row6\" class=\"row_heading level0 row6\" >6</th>\n",
       "                        <td id=\"T_8e7029f4_d826_11e9_b0be_94942601c652row6_col0\" class=\"data row6 col0\" >60</td>\n",
       "                        <td id=\"T_8e7029f4_d826_11e9_b0be_94942601c652row6_col1\" class=\"data row6 col1\" >-20</td>\n",
       "            </tr>\n",
       "            <tr>\n",
       "                        <th id=\"T_8e7029f4_d826_11e9_b0be_94942601c652level0_row7\" class=\"row_heading level0 row7\" >7</th>\n",
       "                        <td id=\"T_8e7029f4_d826_11e9_b0be_94942601c652row7_col0\" class=\"data row7 col0\" >70</td>\n",
       "                        <td id=\"T_8e7029f4_d826_11e9_b0be_94942601c652row7_col1\" class=\"data row7 col1\" >-40</td>\n",
       "            </tr>\n",
       "            <tr>\n",
       "                        <th id=\"T_8e7029f4_d826_11e9_b0be_94942601c652level0_row8\" class=\"row_heading level0 row8\" >8</th>\n",
       "                        <td id=\"T_8e7029f4_d826_11e9_b0be_94942601c652row8_col0\" class=\"data row8 col0\" >80</td>\n",
       "                        <td id=\"T_8e7029f4_d826_11e9_b0be_94942601c652row8_col1\" class=\"data row8 col1\" >-60</td>\n",
       "            </tr>\n",
       "            <tr>\n",
       "                        <th id=\"T_8e7029f4_d826_11e9_b0be_94942601c652level0_row9\" class=\"row_heading level0 row9\" >9</th>\n",
       "                        <td id=\"T_8e7029f4_d826_11e9_b0be_94942601c652row9_col0\" class=\"data row9 col0\" >100</td>\n",
       "                        <td id=\"T_8e7029f4_d826_11e9_b0be_94942601c652row9_col1\" class=\"data row9 col1\" >-80</td>\n",
       "            </tr>\n",
       "    </tbody></table>"
      ],
      "text/plain": [
       "<pandas.io.formats.style.Styler at 0x114b220b8>"
      ]
     },
     "execution_count": 32,
     "metadata": {},
     "output_type": "execute_result"
    }
   ],
   "source": [
    "sample_df.style.bar()"
   ]
  },
  {
   "cell_type": "code",
   "execution_count": 33,
   "metadata": {},
   "outputs": [],
   "source": [
    "sample_df.style.bar().to_excel('bar_df.xlsx')"
   ]
  },
  {
   "cell_type": "markdown",
   "metadata": {},
   "source": [
    "# Stylingの注意点"
   ]
  },
  {
   "cell_type": "markdown",
   "metadata": {},
   "source": [
    "- まだprovisinal\n",
    "- GitHubにupしたときはスタイルが消える\n",
    "    - nbviewerを使うとスタイルが保持されるよ\n",
    "        - nbviewer: https://nbviewer.jupyter.org/\n",
    "        - githubリポジトリ上のipynbのurlを指定すると描画してくれる(JavaScriptの動作も反映される)\n",
    "        - このノートブックの場合: https://nbviewer.jupyter.org/github/komo-fr/PyConJP2019_pandas_styling/blob/master/notebooks/styling.ipynb\n",
    "- 変なCSSを当てても例外は発生しない"
   ]
  },
  {
   "cell_type": "markdown",
   "metadata": {},
   "source": [
    "## 変なCSSを当ててみる"
   ]
  },
  {
   "cell_type": "code",
   "execution_count": 34,
   "metadata": {},
   "outputs": [
    {
     "data": {
      "text/html": [
       "<style  type=\"text/css\" >\n",
       "    #T_8e873e1c_d826_11e9_bd35_94942601c652row0_col0 {\n",
       "            background-color:  yellowwwwww;\n",
       "        }    #T_8e873e1c_d826_11e9_bd35_94942601c652row0_col1 {\n",
       "            background-color:  yellowwwwww;\n",
       "        }    #T_8e873e1c_d826_11e9_bd35_94942601c652row0_col2 {\n",
       "            background-color:  yellowwwwww;\n",
       "        }    #T_8e873e1c_d826_11e9_bd35_94942601c652row1_col0 {\n",
       "            background-color:  yellowwwwww;\n",
       "        }    #T_8e873e1c_d826_11e9_bd35_94942601c652row1_col1 {\n",
       "            background-color:  yellowwwwww;\n",
       "        }    #T_8e873e1c_d826_11e9_bd35_94942601c652row1_col2 {\n",
       "            background-color:  yellowwwwww;\n",
       "        }    #T_8e873e1c_d826_11e9_bd35_94942601c652row2_col0 {\n",
       "            background-color:  yellowwwwww;\n",
       "        }    #T_8e873e1c_d826_11e9_bd35_94942601c652row2_col1 {\n",
       "            background-color:  yellowwwwww;\n",
       "        }    #T_8e873e1c_d826_11e9_bd35_94942601c652row2_col2 {\n",
       "            background-color:  yellowwwwww;\n",
       "        }    #T_8e873e1c_d826_11e9_bd35_94942601c652row3_col0 {\n",
       "            background-color:  yellowwwwww;\n",
       "        }    #T_8e873e1c_d826_11e9_bd35_94942601c652row3_col1 {\n",
       "            background-color:  yellowwwwww;\n",
       "        }    #T_8e873e1c_d826_11e9_bd35_94942601c652row3_col2 {\n",
       "            background-color:  yellowwwwww;\n",
       "        }</style><table id=\"T_8e873e1c_d826_11e9_bd35_94942601c652\" ><thead>    <tr>        <th class=\"blank level0\" ></th>        <th class=\"col_heading level0 col0\" >Araki</th>        <th class=\"col_heading level0 col1\" >Baba</th>        <th class=\"col_heading level0 col2\" >Chou</th>    </tr>    <tr>        <th class=\"index_name level0\" >index</th>        <th class=\"blank\" ></th>        <th class=\"blank\" ></th>        <th class=\"blank\" ></th>    </tr></thead><tbody>\n",
       "                <tr>\n",
       "                        <th id=\"T_8e873e1c_d826_11e9_bd35_94942601c652level0_row0\" class=\"row_heading level0 row0\" >国語</th>\n",
       "                        <td id=\"T_8e873e1c_d826_11e9_bd35_94942601c652row0_col0\" class=\"data row0 col0\" >75</td>\n",
       "                        <td id=\"T_8e873e1c_d826_11e9_bd35_94942601c652row0_col1\" class=\"data row0 col1\" >80</td>\n",
       "                        <td id=\"T_8e873e1c_d826_11e9_bd35_94942601c652row0_col2\" class=\"data row0 col2\" >95</td>\n",
       "            </tr>\n",
       "            <tr>\n",
       "                        <th id=\"T_8e873e1c_d826_11e9_bd35_94942601c652level0_row1\" class=\"row_heading level0 row1\" >数学</th>\n",
       "                        <td id=\"T_8e873e1c_d826_11e9_bd35_94942601c652row1_col0\" class=\"data row1 col0\" >55</td>\n",
       "                        <td id=\"T_8e873e1c_d826_11e9_bd35_94942601c652row1_col1\" class=\"data row1 col1\" >nan</td>\n",
       "                        <td id=\"T_8e873e1c_d826_11e9_bd35_94942601c652row1_col2\" class=\"data row1 col2\" >70</td>\n",
       "            </tr>\n",
       "            <tr>\n",
       "                        <th id=\"T_8e873e1c_d826_11e9_bd35_94942601c652level0_row2\" class=\"row_heading level0 row2\" >理科</th>\n",
       "                        <td id=\"T_8e873e1c_d826_11e9_bd35_94942601c652row2_col0\" class=\"data row2 col0\" >80</td>\n",
       "                        <td id=\"T_8e873e1c_d826_11e9_bd35_94942601c652row2_col1\" class=\"data row2 col1\" >90</td>\n",
       "                        <td id=\"T_8e873e1c_d826_11e9_bd35_94942601c652row2_col2\" class=\"data row2 col2\" >85</td>\n",
       "            </tr>\n",
       "            <tr>\n",
       "                        <th id=\"T_8e873e1c_d826_11e9_bd35_94942601c652level0_row3\" class=\"row_heading level0 row3\" >社会</th>\n",
       "                        <td id=\"T_8e873e1c_d826_11e9_bd35_94942601c652row3_col0\" class=\"data row3 col0\" >90</td>\n",
       "                        <td id=\"T_8e873e1c_d826_11e9_bd35_94942601c652row3_col1\" class=\"data row3 col1\" >30</td>\n",
       "                        <td id=\"T_8e873e1c_d826_11e9_bd35_94942601c652row3_col2\" class=\"data row3 col2\" >70</td>\n",
       "            </tr>\n",
       "    </tbody></table>"
      ],
      "text/plain": [
       "<pandas.io.formats.style.Styler at 0x115801ac8>"
      ]
     },
     "execution_count": 34,
     "metadata": {},
     "output_type": "execute_result"
    }
   ],
   "source": [
    "def strange_css(val):\n",
    "    return 'background-color: yellowwwwww'\n",
    "\n",
    "# 例外は発生しない\n",
    "df.style.applymap(strange_css)"
   ]
  },
  {
   "cell_type": "markdown",
   "metadata": {},
   "source": [
    "# より詳しくは\n",
    "**User Guide**   \n",
    "https://pandas.pydata.org/pandas-docs/stable/user_guide/style.html   \n",
    "\n",
    "**API Reference**   \n",
    "https://pandas.pydata.org/pandas-docs/stable/reference/style.html"
   ]
  },
  {
   "cell_type": "markdown",
   "metadata": {},
   "source": [
    "# Appendix"
   ]
  },
  {
   "cell_type": "code",
   "execution_count": 36,
   "metadata": {},
   "outputs": [
    {
     "data": {
      "text/html": [
       "<div>\n",
       "<style scoped>\n",
       "    .dataframe tbody tr th:only-of-type {\n",
       "        vertical-align: middle;\n",
       "    }\n",
       "\n",
       "    .dataframe tbody tr th {\n",
       "        vertical-align: top;\n",
       "    }\n",
       "\n",
       "    .dataframe thead th {\n",
       "        text-align: right;\n",
       "    }\n",
       "</style>\n",
       "<table border=\"1\" class=\"dataframe\">\n",
       "  <thead>\n",
       "    <tr style=\"text-align: right;\">\n",
       "      <th></th>\n",
       "      <th>ラベル</th>\n",
       "      <th>教師データ数</th>\n",
       "    </tr>\n",
       "  </thead>\n",
       "  <tbody>\n",
       "    <tr>\n",
       "      <td>0</td>\n",
       "      <td>猫</td>\n",
       "      <td>4800</td>\n",
       "    </tr>\n",
       "    <tr>\n",
       "      <td>1</td>\n",
       "      <td>犬</td>\n",
       "      <td>3000</td>\n",
       "    </tr>\n",
       "    <tr>\n",
       "      <td>2</td>\n",
       "      <td>ねずみ</td>\n",
       "      <td>1000</td>\n",
       "    </tr>\n",
       "    <tr>\n",
       "      <td>3</td>\n",
       "      <td>うさぎ</td>\n",
       "      <td>500</td>\n",
       "    </tr>\n",
       "    <tr>\n",
       "      <td>4</td>\n",
       "      <td>キリン</td>\n",
       "      <td>480</td>\n",
       "    </tr>\n",
       "    <tr>\n",
       "      <td>5</td>\n",
       "      <td>パンダ</td>\n",
       "      <td>300</td>\n",
       "    </tr>\n",
       "    <tr>\n",
       "      <td>6</td>\n",
       "      <td>蛇</td>\n",
       "      <td>70</td>\n",
       "    </tr>\n",
       "    <tr>\n",
       "      <td>7</td>\n",
       "      <td>トカゲ</td>\n",
       "      <td>30</td>\n",
       "    </tr>\n",
       "  </tbody>\n",
       "</table>\n",
       "</div>"
      ],
      "text/plain": [
       "   ラベル   教師データ数\n",
       "0    猫     4800\n",
       "1    犬     3000\n",
       "2  ねずみ     1000\n",
       "3  うさぎ      500\n",
       "4  キリン      480\n",
       "5  パンダ      300\n",
       "6    蛇       70\n",
       "7  トカゲ       30"
      ]
     },
     "execution_count": 36,
     "metadata": {},
     "output_type": "execute_result"
    }
   ],
   "source": [
    "exp_df = pd.read_csv('../data/example.csv')\n",
    "exp_df"
   ]
  },
  {
   "cell_type": "code",
   "execution_count": 37,
   "metadata": {},
   "outputs": [
    {
     "data": {
      "text/html": [
       "<style  type=\"text/css\" >\n",
       "    #T_2b631206_d827_11e9_976c_94942601c652row0_col1 {\n",
       "            width:  10em;\n",
       "             height:  80%;\n",
       "            background:  linear-gradient(90deg,skyblue 100.0%, transparent 100.0%);\n",
       "            color:  black;\n",
       "        }    #T_2b631206_d827_11e9_976c_94942601c652row1_col1 {\n",
       "            width:  10em;\n",
       "             height:  80%;\n",
       "            background:  linear-gradient(90deg,skyblue 62.3%, transparent 62.3%);\n",
       "            color:  black;\n",
       "        }    #T_2b631206_d827_11e9_976c_94942601c652row2_col1 {\n",
       "            width:  10em;\n",
       "             height:  80%;\n",
       "            background:  linear-gradient(90deg,skyblue 20.3%, transparent 20.3%);\n",
       "            color:  black;\n",
       "        }    #T_2b631206_d827_11e9_976c_94942601c652row3_col1 {\n",
       "            width:  10em;\n",
       "             height:  80%;\n",
       "            background:  linear-gradient(90deg,skyblue 9.9%, transparent 9.9%);\n",
       "            color:  black;\n",
       "        }    #T_2b631206_d827_11e9_976c_94942601c652row4_col1 {\n",
       "            width:  10em;\n",
       "             height:  80%;\n",
       "            background:  linear-gradient(90deg,skyblue 9.4%, transparent 9.4%);\n",
       "            color:  black;\n",
       "        }    #T_2b631206_d827_11e9_976c_94942601c652row5_col1 {\n",
       "            width:  10em;\n",
       "             height:  80%;\n",
       "            background:  linear-gradient(90deg,skyblue 5.7%, transparent 5.7%);\n",
       "            color:  black;\n",
       "        }    #T_2b631206_d827_11e9_976c_94942601c652row6_col1 {\n",
       "            width:  10em;\n",
       "             height:  80%;\n",
       "            background:  linear-gradient(90deg,skyblue 0.8%, transparent 0.8%);\n",
       "            color:  red;\n",
       "        }    #T_2b631206_d827_11e9_976c_94942601c652row7_col1 {\n",
       "            width:  10em;\n",
       "             height:  80%;\n",
       "            color:  red;\n",
       "        }</style><table id=\"T_2b631206_d827_11e9_976c_94942601c652\" ><thead>    <tr>        <th class=\"blank level0\" ></th>        <th class=\"col_heading level0 col0\" >ラベル</th>        <th class=\"col_heading level0 col1\" > 教師データ数</th>    </tr></thead><tbody>\n",
       "                <tr>\n",
       "                        <th id=\"T_2b631206_d827_11e9_976c_94942601c652level0_row0\" class=\"row_heading level0 row0\" >0</th>\n",
       "                        <td id=\"T_2b631206_d827_11e9_976c_94942601c652row0_col0\" class=\"data row0 col0\" >猫</td>\n",
       "                        <td id=\"T_2b631206_d827_11e9_976c_94942601c652row0_col1\" class=\"data row0 col1\" >4800</td>\n",
       "            </tr>\n",
       "            <tr>\n",
       "                        <th id=\"T_2b631206_d827_11e9_976c_94942601c652level0_row1\" class=\"row_heading level0 row1\" >1</th>\n",
       "                        <td id=\"T_2b631206_d827_11e9_976c_94942601c652row1_col0\" class=\"data row1 col0\" >犬</td>\n",
       "                        <td id=\"T_2b631206_d827_11e9_976c_94942601c652row1_col1\" class=\"data row1 col1\" >3000</td>\n",
       "            </tr>\n",
       "            <tr>\n",
       "                        <th id=\"T_2b631206_d827_11e9_976c_94942601c652level0_row2\" class=\"row_heading level0 row2\" >2</th>\n",
       "                        <td id=\"T_2b631206_d827_11e9_976c_94942601c652row2_col0\" class=\"data row2 col0\" >ねずみ</td>\n",
       "                        <td id=\"T_2b631206_d827_11e9_976c_94942601c652row2_col1\" class=\"data row2 col1\" >1000</td>\n",
       "            </tr>\n",
       "            <tr>\n",
       "                        <th id=\"T_2b631206_d827_11e9_976c_94942601c652level0_row3\" class=\"row_heading level0 row3\" >3</th>\n",
       "                        <td id=\"T_2b631206_d827_11e9_976c_94942601c652row3_col0\" class=\"data row3 col0\" >うさぎ</td>\n",
       "                        <td id=\"T_2b631206_d827_11e9_976c_94942601c652row3_col1\" class=\"data row3 col1\" >500</td>\n",
       "            </tr>\n",
       "            <tr>\n",
       "                        <th id=\"T_2b631206_d827_11e9_976c_94942601c652level0_row4\" class=\"row_heading level0 row4\" >4</th>\n",
       "                        <td id=\"T_2b631206_d827_11e9_976c_94942601c652row4_col0\" class=\"data row4 col0\" >キリン</td>\n",
       "                        <td id=\"T_2b631206_d827_11e9_976c_94942601c652row4_col1\" class=\"data row4 col1\" >480</td>\n",
       "            </tr>\n",
       "            <tr>\n",
       "                        <th id=\"T_2b631206_d827_11e9_976c_94942601c652level0_row5\" class=\"row_heading level0 row5\" >5</th>\n",
       "                        <td id=\"T_2b631206_d827_11e9_976c_94942601c652row5_col0\" class=\"data row5 col0\" >パンダ</td>\n",
       "                        <td id=\"T_2b631206_d827_11e9_976c_94942601c652row5_col1\" class=\"data row5 col1\" >300</td>\n",
       "            </tr>\n",
       "            <tr>\n",
       "                        <th id=\"T_2b631206_d827_11e9_976c_94942601c652level0_row6\" class=\"row_heading level0 row6\" >6</th>\n",
       "                        <td id=\"T_2b631206_d827_11e9_976c_94942601c652row6_col0\" class=\"data row6 col0\" >蛇</td>\n",
       "                        <td id=\"T_2b631206_d827_11e9_976c_94942601c652row6_col1\" class=\"data row6 col1\" >70</td>\n",
       "            </tr>\n",
       "            <tr>\n",
       "                        <th id=\"T_2b631206_d827_11e9_976c_94942601c652level0_row7\" class=\"row_heading level0 row7\" >7</th>\n",
       "                        <td id=\"T_2b631206_d827_11e9_976c_94942601c652row7_col0\" class=\"data row7 col0\" >トカゲ</td>\n",
       "                        <td id=\"T_2b631206_d827_11e9_976c_94942601c652row7_col1\" class=\"data row7 col1\" >30</td>\n",
       "            </tr>\n",
       "    </tbody></table>"
      ],
      "text/plain": [
       "<pandas.io.formats.style.Styler at 0x1159f5ef0>"
      ]
     },
     "execution_count": 37,
     "metadata": {},
     "output_type": "execute_result"
    }
   ],
   "source": [
    "def is_small_data(val):\n",
    "    if type(val) == int:\n",
    "        color = 'red' if val < 100 else 'black'\n",
    "    else:\n",
    "        return ''\n",
    "    return f'color: {color}'\n",
    "exp_df.style.bar(color='skyblue').applymap(is_small_data)"
   ]
  }
 ],
 "metadata": {
  "hide_input": false,
  "kernelspec": {
   "display_name": "Environment (conda_pepmap_env)",
   "language": "python",
   "name": "conda_pepmap_env"
  },
  "language_info": {
   "codemirror_mode": {
    "name": "ipython",
    "version": 3
   },
   "file_extension": ".py",
   "mimetype": "text/x-python",
   "name": "python",
   "nbconvert_exporter": "python",
   "pygments_lexer": "ipython3",
   "version": "3.6.2"
  },
  "nbTranslate": {
   "displayLangs": [
    "*"
   ],
   "hotkey": "alt-t",
   "langInMainMenu": true,
   "sourceLang": "en",
   "targetLang": "fr",
   "useGoogleTranslate": true
  },
  "toc": {
   "base_numbering": 1,
   "nav_menu": {},
   "number_sections": true,
   "sideBar": true,
   "skip_h1_title": false,
   "title_cell": "Table of Contents",
   "title_sidebar": "Contents",
   "toc_cell": false,
   "toc_position": {},
   "toc_section_display": true,
   "toc_window_display": false
  },
  "varInspector": {
   "cols": {
    "lenName": 16,
    "lenType": 16,
    "lenVar": 40
   },
   "kernels_config": {
    "python": {
     "delete_cmd_postfix": "",
     "delete_cmd_prefix": "del ",
     "library": "var_list.py",
     "varRefreshCmd": "print(var_dic_list())"
    },
    "r": {
     "delete_cmd_postfix": ") ",
     "delete_cmd_prefix": "rm(",
     "library": "var_list.r",
     "varRefreshCmd": "cat(var_dic_list()) "
    }
   },
   "types_to_exclude": [
    "module",
    "function",
    "builtin_function_or_method",
    "instance",
    "_Feature"
   ],
   "window_display": false
  }
 },
 "nbformat": 4,
 "nbformat_minor": 2
}
